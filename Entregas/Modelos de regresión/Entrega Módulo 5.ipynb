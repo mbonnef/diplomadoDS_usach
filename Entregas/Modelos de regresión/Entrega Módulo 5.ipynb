{
 "cells": [
  {
   "attachments": {},
   "cell_type": "markdown",
   "metadata": {},
   "source": [
    "Selección de una variable dependiente (puede ser salario)\n",
    "• Selección de al menos 5 variables independientes\n",
    "• Análisis exploratorio de datos (EDA)\n",
    "• Análisis de correlación"
   ]
  },
  {
   "attachments": {},
   "cell_type": "markdown",
   "metadata": {},
   "source": [
    "Modelo de Regresión Lineal Múltiple utilizando la librería STATSMODEL de Python.\n",
    "• Comprobar los supuestos del análisis de Regresión Lineal (señalar si los supuestos son válidos o no).\n",
    "• Interpretar el modelo de Regresión Lineal con sus respectivos coeficientes"
   ]
  },
  {
   "cell_type": "code",
   "execution_count": 2,
   "metadata": {},
   "outputs": [],
   "source": [
    "import pyreadstat\n",
    "import pandas as pd\n"
   ]
  },
  {
   "cell_type": "code",
   "execution_count": 3,
   "metadata": {},
   "outputs": [],
   "source": [
    "# casen, meta = pyreadstat.read_sav(\"/content/drive/MyDrive/Colab Notebooks/Casen 2017.sav\", apply_value_formats = True)\n",
    "\n",
    "casen, meta = pyreadstat.read_sav(r'Casen 2017.sav')"
   ]
  },
  {
   "cell_type": "code",
   "execution_count": null,
   "metadata": {},
   "outputs": [],
   "source": []
  }
 ],
 "metadata": {
  "kernelspec": {
   "display_name": "diplomadods",
   "language": "python",
   "name": "diplomadods"
  },
  "language_info": {
   "codemirror_mode": {
    "name": "ipython",
    "version": 3
   },
   "file_extension": ".py",
   "mimetype": "text/x-python",
   "name": "python",
   "nbconvert_exporter": "python",
   "pygments_lexer": "ipython3",
   "version": "3.10.9"
  },
  "orig_nbformat": 4,
  "vscode": {
   "interpreter": {
    "hash": "a02b72597063d5b55c5d4bffd286d8d9314cf89ab367281f17f7510842994bff"
   }
  }
 },
 "nbformat": 4,
 "nbformat_minor": 2
}
