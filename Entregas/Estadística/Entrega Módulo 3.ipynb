{
 "cells": [
  {
   "attachments": {},
   "cell_type": "markdown",
   "metadata": {},
   "source": [
    "# 1. Introducción\n",
    "\n",
    "El problema de la vivienda en chile...\n",
    "\n",
    "Múltiples noticias y reportajes en los últimos meses han desarrollado la idea de la existencia de un déficit habitacional...\n",
    "\n",
    "Sin embargo algo que comparten es que muestran los resultados según cifras absolutas y no proporcionales respecto a la sociedad..."
   ]
  },
  {
   "attachments": {},
   "cell_type": "markdown",
   "metadata": {},
   "source": [
    "# 2. Librerías ocupadas"
   ]
  },
  {
   "cell_type": "code",
   "execution_count": 82,
   "metadata": {},
   "outputs": [],
   "source": [
    "import pandas as pd\n",
    "\n",
    "# Librerías de visualización\n",
    "import plotly.express as px\n",
    "import plotly.graph_objects as go\n",
    "\n",
    "\n",
    "\n",
    "import inspect"
   ]
  },
  {
   "attachments": {},
   "cell_type": "markdown",
   "metadata": {},
   "source": [
    "# 3. Consolidación de la base de datos"
   ]
  },
  {
   "attachments": {},
   "cell_type": "markdown",
   "metadata": {},
   "source": [
    "Con el objetivo de determinar aquellos hogares en los que existiría una situación de carencia de vivencia se genera un criterio de agrupamiento que corresponda a toda instancia donde el hogar encuestado se encontrara en situaciones de ocupación irregular o categorías que recogen el allegamiento tal como la respuesta de \"Otros\""
   ]
  },
  {
   "attachments": {},
   "cell_type": "markdown",
   "metadata": {},
   "source": [
    "Luego se busca generar una tabla combinada con las respuestas a \"SITUACIÓN DEL SITIO QUE OCUPA\" de todas las encuestas CASEN"
   ]
  },
  {
   "cell_type": "code",
   "execution_count": 43,
   "metadata": {},
   "outputs": [],
   "source": [
    "# Cargado de CASEN 1990-2017\n",
    "\n",
    "# path = r'.\\CASEN\\casen1990.sav'\n",
    "# casen_1990 = pd.read_spss(r'.\\CASEN\\bbdd_casen_1990.sav')\n",
    "# casen_1992 = pd.read_spss(r'.\\CASEN\\bbdd_casen_1992.sav')\n",
    "# casen_1994 = pd.read_spss(r'.\\CASEN\\bbdd_casen_1994.sav')\n",
    "# casen_1996 = pd.read_spss(r'.\\CASEN\\bbdd_casen_1996.sav')\n",
    "# casen_1998 = pd.read_spss(r'.\\CASEN\\bbdd_casen_1998.sav')\n",
    "# casen_2000 = pd.read_spss(r'.\\CASEN\\bbdd_casen_2000.sav')\n",
    "# casen_2003 = pd.read_spss(r'.\\CASEN\\bbdd_casen_2003.sav')\n",
    "# casen_2006 = pd.read_spss(r'.\\CASEN\\bbdd_casen_2006.sav')\n",
    "# casen_2009 = pd.read_spss(r'.\\CASEN\\bbdd_casen_2009.sav')\n",
    "# casen_2011 = pd.read_spss(r'.\\CASEN\\bbdd_casen_2011.sav')\n",
    "# casen_2013 = pd.read_spss(r'.\\CASEN\\bbdd_casen_2013.sav')\n",
    "# casen_2015 = pd.read_spss(r'.\\CASEN\\bbdd_casen_2015.sav')\n",
    "# casen_2017 = pd.read_spss(r'.\\CASEN\\bbdd_casen_2017.sav')\n"
   ]
  },
  {
   "cell_type": "code",
   "execution_count": 44,
   "metadata": {},
   "outputs": [],
   "source": [
    "# Pregunta sitio casen 1990: v18\n",
    "pregunta_sitio = ['v18']\n",
    "\n",
    "casen_1990 = pd.read_spss(r'.\\CASEN\\bbdd_casen_1990.sav', usecols = pregunta_sitio)\n",
    "\n",
    "# Pregunta sitio casen 1992-2000: v1\n",
    "\n",
    "pregunta_sitio = ['v1']\n",
    "\n",
    "casen_1992 = pd.read_spss(r'.\\CASEN\\bbdd_casen_1992.sav', usecols = pregunta_sitio)\n",
    "casen_1994 = pd.read_spss(r'.\\CASEN\\bbdd_casen_1994.sav', usecols = pregunta_sitio)\n",
    "casen_1996 = pd.read_spss(r'.\\CASEN\\bbdd_casen_1996.sav', usecols = pregunta_sitio)\n",
    "casen_1998 = pd.read_spss(r'.\\CASEN\\bbdd_casen_1998.sav', usecols = pregunta_sitio)\n",
    "casen_2000 = pd.read_spss(r'.\\CASEN\\bbdd_casen_2000.sav', usecols = pregunta_sitio)\n",
    "\n",
    "# Pregunta sitio casen 2003-2009: V1\n",
    "\n",
    "pregunta_sitio = ['V1']\n",
    "\n",
    "casen_2003 = pd.read_spss(r'.\\CASEN\\bbdd_casen_2003.sav', usecols = pregunta_sitio)\n",
    "casen_2006 = pd.read_spss(r'.\\CASEN\\bbdd_casen_2006.sav', usecols = pregunta_sitio)\n",
    "casen_2009 = pd.read_spss(r'.\\CASEN\\bbdd_casen_2009.sav', usecols = pregunta_sitio)\n",
    "\n",
    "# Pregunta sitio casen 2011: v3\n",
    "\n",
    "pregunta_sitio = ['v3']\n",
    "\n",
    "casen_2011 = pd.read_spss(r'.\\CASEN\\bbdd_casen_2011.sav', usecols = pregunta_sitio)\n",
    "\n",
    "# Pregunta sitio casen 2013-2017: v9\n",
    "\n",
    "pregunta_sitio = ['v9']\n",
    "\n",
    "casen_2013 = pd.read_spss(r'.\\CASEN\\bbdd_casen_2013.sav', usecols = pregunta_sitio)\n",
    "casen_2015 = pd.read_spss(r'.\\CASEN\\bbdd_casen_2015.sav', usecols = pregunta_sitio)\n",
    "casen_2017 = pd.read_spss(r'.\\CASEN\\bbdd_casen_2017.sav', usecols = pregunta_sitio)\n"
   ]
  },
  {
   "cell_type": "code",
   "execution_count": 45,
   "metadata": {},
   "outputs": [],
   "source": [
    "# Intento de realizar de manera interable:\n",
    "\n",
    "# casen_1990a2017 = (casen_1990, casen_1992, casen_1994, casen_1996, casen_1998, casen_2000, casen_2003, casen_2006, casen_2009, casen_2011, casen_2013,  casen_2015, casen_2017)\n",
    "\n",
    "# for i in casen_1990a2017:\n",
    "    # i = pd.DataFrame(i.value_counts().reset_index(name='conteo'))"
   ]
  },
  {
   "attachments": {},
   "cell_type": "markdown",
   "metadata": {},
   "source": [
    "Se intentó de resolver a través de la iteración pero a través del bucle for no se obtuvo el resultado esperado.\n",
    "Por lo tanto el ejercicio se realiza manual, línea por línea"
   ]
  },
  {
   "cell_type": "code",
   "execution_count": 46,
   "metadata": {},
   "outputs": [],
   "source": [
    "# Convertir en dataframe cada resultado de casen para la pregunta de situación de vivienda\n",
    "\n",
    "sitio_1990 = pd.DataFrame(casen_1990.value_counts().reset_index(name='conteo'))\n",
    "sitio_1992 = pd.DataFrame(casen_1992.value_counts().reset_index(name='conteo'))\n",
    "sitio_1994 = pd.DataFrame(casen_1994.value_counts().reset_index(name='conteo'))\n",
    "sitio_1996 = pd.DataFrame(casen_1996.value_counts().reset_index(name='conteo'))\n",
    "sitio_1998 = pd.DataFrame(casen_1998.value_counts().reset_index(name='conteo'))\n",
    "sitio_2000 = pd.DataFrame(casen_2000.value_counts().reset_index(name='conteo'))\n",
    "sitio_2003 = pd.DataFrame(casen_2003.value_counts().reset_index(name='conteo'))\n",
    "sitio_2006 = pd.DataFrame(casen_2006.value_counts().reset_index(name='conteo'))\n",
    "sitio_2009 = pd.DataFrame(casen_2009.value_counts().reset_index(name='conteo'))\n",
    "sitio_2011 = pd.DataFrame(casen_2011.value_counts().reset_index(name='conteo'))\n",
    "sitio_2013 = pd.DataFrame(casen_2013.value_counts().reset_index(name='conteo'))\n",
    "sitio_2015 = pd.DataFrame(casen_2015.value_counts().reset_index(name='conteo'))\n",
    "sitio_2017 = pd.DataFrame(casen_2017.value_counts().reset_index(name='conteo'))"
   ]
  },
  {
   "cell_type": "code",
   "execution_count": 47,
   "metadata": {},
   "outputs": [],
   "source": [
    "# Normalizar el nombre de la columna de pregunta\n",
    "\n",
    "sitio_1990 = sitio_1990.rename(columns={'v18':'situacion_sitio'})\n",
    "sitio_1992 = sitio_1992.rename(columns={'v1':'situacion_sitio'})\n",
    "sitio_1994 = sitio_1994.rename(columns={'v1':'situacion_sitio'})\n",
    "sitio_1996 = sitio_1996.rename(columns={'v1':'situacion_sitio'})\n",
    "sitio_1998 = sitio_1998.rename(columns={'v1':'situacion_sitio'})\n",
    "sitio_2000 = sitio_2000.rename(columns={'v1':'situacion_sitio'})\n",
    "sitio_2003 = sitio_2003.rename(columns={'V1':'situacion_sitio'})\n",
    "sitio_2006 = sitio_2006.rename(columns={'V1':'situacion_sitio'})\n",
    "sitio_2009 = sitio_2009.rename(columns={'V1':'situacion_sitio'})\n",
    "sitio_2011 = sitio_2011.rename(columns={'v3':'situacion_sitio'})\n",
    "sitio_2013 = sitio_2013.rename(columns={'v9':'situacion_sitio'})\n",
    "sitio_2015 = sitio_2015.rename(columns={'v9':'situacion_sitio'})\n",
    "sitio_2017 = sitio_2017.rename(columns={'v9':'situacion_sitio'})\n",
    "\n"
   ]
  },
  {
   "cell_type": "code",
   "execution_count": 48,
   "metadata": {},
   "outputs": [],
   "source": [
    "# Luego se busca determinar todas las categorías asignadas a lo largo de todas las encuestas\n",
    "\n",
    "sitio_1990a2017 = (sitio_1990, sitio_1992, sitio_1994, sitio_1996, sitio_1998, sitio_2000, sitio_2003, sitio_2006, sitio_2009, sitio_2011, sitio_2013,  sitio_2015, sitio_2017)\n",
    "\n",
    "lista_sitios = []\n",
    "\n",
    "for i in sitio_1990a2017:\n",
    "    lista_sitios.append(i['situacion_sitio'].unique())    \n",
    "\n",
    "# Se generan listas dentro de otra, por lo que se debe desanidar\n",
    "\n",
    "lista_sitios_desanidado = []\n",
    "\n",
    "for sublist in lista_sitios:\n",
    "    for item in sublist:\n",
    "        lista_sitios_desanidado.append(item)\n",
    "\n",
    "# Eliminación de duplicados\n",
    "\n",
    "lista_sitios_sinduplicados = list(dict.fromkeys(lista_sitios_desanidado))\n"
   ]
  },
  {
   "cell_type": "code",
   "execution_count": 49,
   "metadata": {},
   "outputs": [
    {
     "name": "stdout",
     "output_type": "stream",
     "text": [
      "['Propio pagado', 'Cedido', 'Arrendado', 'Propio pagándose', 'Departamento', 'Ocupación irregular', 'Otros', 'Departamento o condominio', 'Propiedad conjunta del sitio', 'Otro', 'Cedido por servicios', 'Propiedad conjunta', 'Departamento, condominio u otra de Ley de Propiedad Horiz.', 'Ocupación irregular  (de hecho)', 'Usufructo', 'Tierras indígenas', 'Comunidad Agrícola', 'Propia Pagada', 'USUFRUCTO', 'ARRENDADO', 'Propia Pagandose', 'CEDIDO POR SERVICIOS', 'Departamento, Condominio o Conventillo', 'PROPIEDAD CONJUNTA', 'OCUPACION IRREGULAR', 'DEPARTAMENTO/CONDOMINIO', 'TIERRAS INDIGENAS', 'OTRO', 'COMUNIDAD AGRICOLA', 'Propio Pagado', 'Cedido por Familiar u otro', 'Propio Pagándose', 'Cedido por Servicios', 'Propiedad Conjunta Pagada', 'Ocupación Irregular', 'Propia Conjunta Pagándose', 'Cedido por familiar u otro', 'Arrendado sin contrato', 'Arrendado con contrato', 'Propiedad compartida (pagada) con otras viviendas del sitio', 'Usufructo (sólo uso y goce)', 'Ocupación irregular (de hecho)', 'Propiedad compartida (pagándose) con otras viviendas del sit', 'Prop.compartida (pagada) con otras viviendas del sitio', 'Prop. compartida (pagándose) con otras viviendas del sitio', 'Propio compartido (pagada) con otras viviendas del sitio', 'Otro.', 'Propio compartido (pagándose) con otras viviendas del sitio', 'Sin dato', 'Propio compartido (pagado) con otras viviendas del sitio', 'Otro. Especifique', 'Cedido por servicio o trabajo', 'Poseedor irregular', 'Otra situación', 'Propio compartido (pagado) con viviendas del sitio', 'NS/NR', 'No responde']\n"
     ]
    }
   ],
   "source": [
    "print(lista_sitios_sinduplicados)"
   ]
  },
  {
   "cell_type": "code",
   "execution_count": 50,
   "metadata": {},
   "outputs": [],
   "source": [
    "# Desde lo anterior se genera una lista con todos aquellos valores que correspondan a carencia de condición de vivienda propia\n",
    "\n",
    "sin_sitio = ['Ocupación irregular',\n",
    "             'Otros',\n",
    "             'Otro',\n",
    "             'Ocupación irregular  (de hecho)',\n",
    "             'Usufructo',\n",
    "             'USUFRUCTO',\n",
    "             'OCUPACION IRREGULAR',\n",
    "             'OTRO',\n",
    "             'Ocupación Irregular',\n",
    "             'Usufructo (sólo uso y goce)',\n",
    "             'Ocupación irregular (de hecho)',\n",
    "             'Otro.',\n",
    "             'Otro. Especifique',\n",
    "             'Poseedor irregular',\n",
    "             'Otra situación'\n",
    "             ]"
   ]
  },
  {
   "cell_type": "code",
   "execution_count": 51,
   "metadata": {},
   "outputs": [],
   "source": [
    "# Se genera una función que asigna un valor a aquellos casos donde se especificaron las opciones anteriores\n",
    "\n",
    "def tipo_sitio(x):\n",
    "    if x in sin_sitio:\n",
    "        return 'Carece de vivienda'\n",
    "    else:\n",
    "        return 'Cuenta con acceso a vivienda'"
   ]
  },
  {
   "cell_type": "code",
   "execution_count": 52,
   "metadata": {},
   "outputs": [],
   "source": [
    "# Se aplica la función para cada encuesta casen\n",
    "\n",
    "for i in sitio_1990a2017:\n",
    "    i['agrupacion'] = i['situacion_sitio'].apply(lambda x: tipo_sitio(x))"
   ]
  },
  {
   "cell_type": "code",
   "execution_count": 53,
   "metadata": {},
   "outputs": [],
   "source": [
    "# Se incorpora una función que permite rescatar el año de cada encuesta desde el nombre de la variable con el fin de\n",
    "# transformar nombres de columnas\n",
    "\n",
    "def retrieve_name(var):\n",
    "    callers_local_vars = inspect.currentframe().f_back.f_locals.items()\n",
    "    return [var_name for var_name, var_val in callers_local_vars if var_val is var]"
   ]
  },
  {
   "cell_type": "code",
   "execution_count": 54,
   "metadata": {},
   "outputs": [],
   "source": [
    "# for i in sitio_1990a2017:\n",
    "    # anio = str(retrieve_name(i)[0].split('_')[1])\n",
    "    # print(f'Año: {anio}')\n",
    "    # i = i.rename(columns={'conteo' : anio})\n",
    "    # i['anio'] = i[0]\n",
    "    # i = i[i.columns[~i.columns.isin([0])]]\n",
    "    # i = i[['situacion_sitio', 'agrupacion', 'anio']]\n",
    "    # df2 = df[df.columns[~df.columns.isin(['assists', 'rebounds'])]]"
   ]
  },
  {
   "cell_type": "code",
   "execution_count": 55,
   "metadata": {},
   "outputs": [
    {
     "name": "stdout",
     "output_type": "stream",
     "text": [
      "Año: 1990\n",
      "Año: 1992\n",
      "Año: 1994\n",
      "Año: 1996\n",
      "Año: 1998\n",
      "Año: 2000\n",
      "Año: 2003\n",
      "Año: 2006\n",
      "Año: 2009\n",
      "Año: 2011\n",
      "Año: 2013\n",
      "Año: 2015\n",
      "Año: 2017\n"
     ]
    }
   ],
   "source": [
    "sitio_1990a2017 = (sitio_1990, sitio_1992, sitio_1994, sitio_1996, sitio_1998, sitio_2000, sitio_2003, sitio_2006, sitio_2009, sitio_2011, sitio_2013,  sitio_2015, sitio_2017)\n",
    "\n",
    "for i in sitio_1990a2017:\n",
    "    anio = str(retrieve_name(i)[0].split('_')[1])\n",
    "    print(f'Año: {anio}')\n",
    "    i = i.groupby('agrupacion').sum().reset_index().rename(columns={\"conteo\":anio})"
   ]
  },
  {
   "cell_type": "code",
   "execution_count": 56,
   "metadata": {},
   "outputs": [
    {
     "data": {
      "text/html": [
       "<div>\n",
       "<style scoped>\n",
       "    .dataframe tbody tr th:only-of-type {\n",
       "        vertical-align: middle;\n",
       "    }\n",
       "\n",
       "    .dataframe tbody tr th {\n",
       "        vertical-align: top;\n",
       "    }\n",
       "\n",
       "    .dataframe thead th {\n",
       "        text-align: right;\n",
       "    }\n",
       "</style>\n",
       "<table border=\"1\" class=\"dataframe\">\n",
       "  <thead>\n",
       "    <tr style=\"text-align: right;\">\n",
       "      <th></th>\n",
       "      <th>situacion_sitio</th>\n",
       "      <th>conteo</th>\n",
       "      <th>agrupacion</th>\n",
       "    </tr>\n",
       "  </thead>\n",
       "  <tbody>\n",
       "    <tr>\n",
       "      <th>0</th>\n",
       "      <td>Propio pagado</td>\n",
       "      <td>89605</td>\n",
       "      <td>Cuenta con acceso a vivienda</td>\n",
       "    </tr>\n",
       "    <tr>\n",
       "      <th>1</th>\n",
       "      <td>Otro</td>\n",
       "      <td>27111</td>\n",
       "      <td>Carece de vivienda</td>\n",
       "    </tr>\n",
       "    <tr>\n",
       "      <th>2</th>\n",
       "      <td>Arrendado</td>\n",
       "      <td>21211</td>\n",
       "      <td>Cuenta con acceso a vivienda</td>\n",
       "    </tr>\n",
       "    <tr>\n",
       "      <th>3</th>\n",
       "      <td>Cedido por servicios</td>\n",
       "      <td>13190</td>\n",
       "      <td>Cuenta con acceso a vivienda</td>\n",
       "    </tr>\n",
       "    <tr>\n",
       "      <th>4</th>\n",
       "      <td>Propio pagándose</td>\n",
       "      <td>10490</td>\n",
       "      <td>Cuenta con acceso a vivienda</td>\n",
       "    </tr>\n",
       "    <tr>\n",
       "      <th>5</th>\n",
       "      <td>Propiedad conjunta</td>\n",
       "      <td>5636</td>\n",
       "      <td>Cuenta con acceso a vivienda</td>\n",
       "    </tr>\n",
       "    <tr>\n",
       "      <th>6</th>\n",
       "      <td>Departamento, condominio u otra de Ley de Prop...</td>\n",
       "      <td>4748</td>\n",
       "      <td>Cuenta con acceso a vivienda</td>\n",
       "    </tr>\n",
       "    <tr>\n",
       "      <th>7</th>\n",
       "      <td>Ocupación irregular  (de hecho)</td>\n",
       "      <td>2476</td>\n",
       "      <td>Carece de vivienda</td>\n",
       "    </tr>\n",
       "    <tr>\n",
       "      <th>8</th>\n",
       "      <td>Usufructo</td>\n",
       "      <td>1878</td>\n",
       "      <td>Carece de vivienda</td>\n",
       "    </tr>\n",
       "    <tr>\n",
       "      <th>9</th>\n",
       "      <td>Tierras indígenas</td>\n",
       "      <td>1095</td>\n",
       "      <td>Cuenta con acceso a vivienda</td>\n",
       "    </tr>\n",
       "    <tr>\n",
       "      <th>10</th>\n",
       "      <td>Comunidad Agrícola</td>\n",
       "      <td>617</td>\n",
       "      <td>Cuenta con acceso a vivienda</td>\n",
       "    </tr>\n",
       "  </tbody>\n",
       "</table>\n",
       "</div>"
      ],
      "text/plain": [
       "                                      situacion_sitio  conteo  \\\n",
       "0                                       Propio pagado   89605   \n",
       "1                                                Otro   27111   \n",
       "2                                           Arrendado   21211   \n",
       "3                                Cedido por servicios   13190   \n",
       "4                                    Propio pagándose   10490   \n",
       "5                                  Propiedad conjunta    5636   \n",
       "6   Departamento, condominio u otra de Ley de Prop...    4748   \n",
       "7                     Ocupación irregular  (de hecho)    2476   \n",
       "8                                           Usufructo    1878   \n",
       "9                                   Tierras indígenas    1095   \n",
       "10                                 Comunidad Agrícola     617   \n",
       "\n",
       "                      agrupacion  \n",
       "0   Cuenta con acceso a vivienda  \n",
       "1             Carece de vivienda  \n",
       "2   Cuenta con acceso a vivienda  \n",
       "3   Cuenta con acceso a vivienda  \n",
       "4   Cuenta con acceso a vivienda  \n",
       "5   Cuenta con acceso a vivienda  \n",
       "6   Cuenta con acceso a vivienda  \n",
       "7             Carece de vivienda  \n",
       "8             Carece de vivienda  \n",
       "9   Cuenta con acceso a vivienda  \n",
       "10  Cuenta con acceso a vivienda  "
      ]
     },
     "execution_count": 56,
     "metadata": {},
     "output_type": "execute_result"
    }
   ],
   "source": [
    "sitio_1994"
   ]
  },
  {
   "attachments": {},
   "cell_type": "markdown",
   "metadata": {},
   "source": [
    "La iteración no de resultados, por lo que se mantiene como método trabajar línea por línea"
   ]
  },
  {
   "cell_type": "code",
   "execution_count": 57,
   "metadata": {},
   "outputs": [],
   "source": [
    "# Se modifica cada encuesta tal de conservar solo los datos agrupados\n",
    "\n",
    "sitio_1990 = sitio_1990.groupby('agrupacion').sum().reset_index().rename(columns={\"conteo\":\"1990\"})\n",
    "sitio_1992 = sitio_1992.groupby('agrupacion').sum().reset_index().rename(columns={\"conteo\":\"1992\"})\n",
    "sitio_1994 = sitio_1994.groupby('agrupacion').sum().reset_index().rename(columns={\"conteo\":\"1994\"})\n",
    "sitio_1996 = sitio_1996.groupby('agrupacion').sum().reset_index().rename(columns={\"conteo\":\"1996\"})\n",
    "sitio_1998 = sitio_1998.groupby('agrupacion').sum().reset_index().rename(columns={\"conteo\":\"1998\"})\n",
    "sitio_2000 = sitio_2000.groupby('agrupacion').sum().reset_index().rename(columns={\"conteo\":\"2000\"})\n",
    "sitio_2003 = sitio_2003.groupby('agrupacion').sum().reset_index().rename(columns={\"conteo\":\"2003\"})\n",
    "sitio_2006 = sitio_2006.groupby('agrupacion').sum().reset_index().rename(columns={\"conteo\":\"2006\"})\n",
    "sitio_2009 = sitio_2009.groupby('agrupacion').sum().reset_index().rename(columns={\"conteo\":\"2009\"})\n",
    "sitio_2011 = sitio_2011.groupby('agrupacion').sum().reset_index().rename(columns={\"conteo\":\"2011\"})\n",
    "sitio_2013 = sitio_2013.groupby('agrupacion').sum().reset_index().rename(columns={\"conteo\":\"2013\"})\n",
    "sitio_2015 = sitio_2015.groupby('agrupacion').sum().reset_index().rename(columns={\"conteo\":\"2015\"})\n",
    "sitio_2017 = sitio_2017.groupby('agrupacion').sum().reset_index().rename(columns={\"conteo\":\"2017\"})"
   ]
  },
  {
   "cell_type": "code",
   "execution_count": 58,
   "metadata": {},
   "outputs": [
    {
     "data": {
      "text/html": [
       "<div>\n",
       "<style scoped>\n",
       "    .dataframe tbody tr th:only-of-type {\n",
       "        vertical-align: middle;\n",
       "    }\n",
       "\n",
       "    .dataframe tbody tr th {\n",
       "        vertical-align: top;\n",
       "    }\n",
       "\n",
       "    .dataframe thead th {\n",
       "        text-align: right;\n",
       "    }\n",
       "</style>\n",
       "<table border=\"1\" class=\"dataframe\">\n",
       "  <thead>\n",
       "    <tr style=\"text-align: right;\">\n",
       "      <th></th>\n",
       "      <th>agrupacion</th>\n",
       "      <th>1990</th>\n",
       "    </tr>\n",
       "  </thead>\n",
       "  <tbody>\n",
       "    <tr>\n",
       "      <th>0</th>\n",
       "      <td>Carece de vivienda</td>\n",
       "      <td>4569</td>\n",
       "    </tr>\n",
       "    <tr>\n",
       "      <th>1</th>\n",
       "      <td>Cuenta con acceso a vivienda</td>\n",
       "      <td>100620</td>\n",
       "    </tr>\n",
       "  </tbody>\n",
       "</table>\n",
       "</div>"
      ],
      "text/plain": [
       "                     agrupacion    1990\n",
       "0            Carece de vivienda    4569\n",
       "1  Cuenta con acceso a vivienda  100620"
      ]
     },
     "execution_count": 58,
     "metadata": {},
     "output_type": "execute_result"
    }
   ],
   "source": [
    "sitio_1990"
   ]
  },
  {
   "cell_type": "code",
   "execution_count": 59,
   "metadata": {},
   "outputs": [
    {
     "data": {
      "text/html": [
       "<div>\n",
       "<style scoped>\n",
       "    .dataframe tbody tr th:only-of-type {\n",
       "        vertical-align: middle;\n",
       "    }\n",
       "\n",
       "    .dataframe tbody tr th {\n",
       "        vertical-align: top;\n",
       "    }\n",
       "\n",
       "    .dataframe thead th {\n",
       "        text-align: right;\n",
       "    }\n",
       "</style>\n",
       "<table border=\"1\" class=\"dataframe\">\n",
       "  <thead>\n",
       "    <tr style=\"text-align: right;\">\n",
       "      <th></th>\n",
       "      <th>agrupacion</th>\n",
       "      <th>2011</th>\n",
       "    </tr>\n",
       "  </thead>\n",
       "  <tbody>\n",
       "    <tr>\n",
       "      <th>0</th>\n",
       "      <td>Carece de vivienda</td>\n",
       "      <td>10321</td>\n",
       "    </tr>\n",
       "    <tr>\n",
       "      <th>1</th>\n",
       "      <td>Cuenta con acceso a vivienda</td>\n",
       "      <td>284470</td>\n",
       "    </tr>\n",
       "  </tbody>\n",
       "</table>\n",
       "</div>"
      ],
      "text/plain": [
       "                     agrupacion    2011\n",
       "0            Carece de vivienda   10321\n",
       "1  Cuenta con acceso a vivienda  284470"
      ]
     },
     "execution_count": 59,
     "metadata": {},
     "output_type": "execute_result"
    }
   ],
   "source": [
    "sitio_2011"
   ]
  },
  {
   "cell_type": "code",
   "execution_count": 60,
   "metadata": {},
   "outputs": [],
   "source": [
    "# Se combinan todas las agrupaciones con el fin de obtener una tabla unificada\n",
    "\n",
    "sitio_consolidado = pd.merge(sitio_1990, sitio_1992, left_on='agrupacion', right_on='agrupacion', how='left')\n",
    "sitio_consolidado = pd.merge(sitio_consolidado, sitio_1994, left_on='agrupacion', right_on='agrupacion', how='left')\n",
    "sitio_consolidado = pd.merge(sitio_consolidado, sitio_1996, left_on='agrupacion', right_on='agrupacion', how='left')\n",
    "sitio_consolidado = pd.merge(sitio_consolidado, sitio_1998, left_on='agrupacion', right_on='agrupacion', how='left')\n",
    "sitio_consolidado = pd.merge(sitio_consolidado, sitio_2000, left_on='agrupacion', right_on='agrupacion', how='left')\n",
    "sitio_consolidado = pd.merge(sitio_consolidado, sitio_2003, left_on='agrupacion', right_on='agrupacion', how='left')\n",
    "sitio_consolidado = pd.merge(sitio_consolidado, sitio_2006, left_on='agrupacion', right_on='agrupacion', how='left')\n",
    "sitio_consolidado = pd.merge(sitio_consolidado, sitio_2009, left_on='agrupacion', right_on='agrupacion', how='left')\n",
    "sitio_consolidado = pd.merge(sitio_consolidado, sitio_2011, left_on='agrupacion', right_on='agrupacion', how='left')\n",
    "sitio_consolidado = pd.merge(sitio_consolidado, sitio_2013, left_on='agrupacion', right_on='agrupacion', how='left')\n",
    "sitio_consolidado = pd.merge(sitio_consolidado, sitio_2015, left_on='agrupacion', right_on='agrupacion', how='left')\n",
    "sitio_consolidado = pd.merge(sitio_consolidado, sitio_2017, left_on='agrupacion', right_on='agrupacion', how='left')\n"
   ]
  },
  {
   "cell_type": "code",
   "execution_count": 61,
   "metadata": {},
   "outputs": [
    {
     "data": {
      "text/html": [
       "<div>\n",
       "<style scoped>\n",
       "    .dataframe tbody tr th:only-of-type {\n",
       "        vertical-align: middle;\n",
       "    }\n",
       "\n",
       "    .dataframe tbody tr th {\n",
       "        vertical-align: top;\n",
       "    }\n",
       "\n",
       "    .dataframe thead th {\n",
       "        text-align: right;\n",
       "    }\n",
       "</style>\n",
       "<table border=\"1\" class=\"dataframe\">\n",
       "  <thead>\n",
       "    <tr style=\"text-align: right;\">\n",
       "      <th></th>\n",
       "      <th>agrupacion</th>\n",
       "      <th>1990</th>\n",
       "      <th>1992</th>\n",
       "      <th>1994</th>\n",
       "      <th>1996</th>\n",
       "      <th>1998</th>\n",
       "      <th>2000</th>\n",
       "      <th>2003</th>\n",
       "      <th>2006</th>\n",
       "      <th>2009</th>\n",
       "      <th>2011</th>\n",
       "      <th>2013</th>\n",
       "      <th>2015</th>\n",
       "      <th>2017</th>\n",
       "    </tr>\n",
       "  </thead>\n",
       "  <tbody>\n",
       "    <tr>\n",
       "      <th>0</th>\n",
       "      <td>Carece de vivienda</td>\n",
       "      <td>4569</td>\n",
       "      <td>2800</td>\n",
       "      <td>31465</td>\n",
       "      <td>22168</td>\n",
       "      <td>5747</td>\n",
       "      <td>7676</td>\n",
       "      <td>7523</td>\n",
       "      <td>4649</td>\n",
       "      <td>4741</td>\n",
       "      <td>10321</td>\n",
       "      <td>8194</td>\n",
       "      <td>8183</td>\n",
       "      <td>7511</td>\n",
       "    </tr>\n",
       "    <tr>\n",
       "      <th>1</th>\n",
       "      <td>Cuenta con acceso a vivienda</td>\n",
       "      <td>100620</td>\n",
       "      <td>140659</td>\n",
       "      <td>146592</td>\n",
       "      <td>112094</td>\n",
       "      <td>182613</td>\n",
       "      <td>245072</td>\n",
       "      <td>249554</td>\n",
       "      <td>264224</td>\n",
       "      <td>242183</td>\n",
       "      <td>284470</td>\n",
       "      <td>210297</td>\n",
       "      <td>258785</td>\n",
       "      <td>208928</td>\n",
       "    </tr>\n",
       "  </tbody>\n",
       "</table>\n",
       "</div>"
      ],
      "text/plain": [
       "                     agrupacion    1990    1992    1994    1996    1998  \\\n",
       "0            Carece de vivienda    4569    2800   31465   22168    5747   \n",
       "1  Cuenta con acceso a vivienda  100620  140659  146592  112094  182613   \n",
       "\n",
       "     2000    2003    2006    2009    2011    2013    2015    2017  \n",
       "0    7676    7523    4649    4741   10321    8194    8183    7511  \n",
       "1  245072  249554  264224  242183  284470  210297  258785  208928  "
      ]
     },
     "execution_count": 61,
     "metadata": {},
     "output_type": "execute_result"
    }
   ],
   "source": [
    "sitio_consolidado"
   ]
  },
  {
   "cell_type": "code",
   "execution_count": 62,
   "metadata": {},
   "outputs": [],
   "source": [
    "df_consolidado = pd.DataFrame(sitio_consolidado)"
   ]
  },
  {
   "cell_type": "code",
   "execution_count": 63,
   "metadata": {},
   "outputs": [],
   "source": [
    "# df_consolidado["
   ]
  },
  {
   "cell_type": "code",
   "execution_count": 64,
   "metadata": {},
   "outputs": [
    {
     "data": {
      "text/plain": [
       "['agrupacion',\n",
       " '1990',\n",
       " '1992',\n",
       " '1994',\n",
       " '1996',\n",
       " '1998',\n",
       " '2000',\n",
       " '2003',\n",
       " '2006',\n",
       " '2009',\n",
       " '2011',\n",
       " '2013',\n",
       " '2015',\n",
       " '2017']"
      ]
     },
     "execution_count": 64,
     "metadata": {},
     "output_type": "execute_result"
    }
   ],
   "source": [
    "# anios = list(sitio_consolidado.columns)[1:]\n",
    "anios = list(sitio_consolidado.columns)\n",
    "\n",
    "anios"
   ]
  },
  {
   "cell_type": "code",
   "execution_count": 65,
   "metadata": {},
   "outputs": [],
   "source": [
    "# sitio_consolidado.reset_index()"
   ]
  },
  {
   "cell_type": "code",
   "execution_count": 66,
   "metadata": {},
   "outputs": [],
   "source": [
    "# consolidado2 = sitio_consolidado.transpose()\n",
    "# consolidado2"
   ]
  },
  {
   "cell_type": "code",
   "execution_count": 67,
   "metadata": {},
   "outputs": [
    {
     "data": {
      "text/html": [
       "<div>\n",
       "<style scoped>\n",
       "    .dataframe tbody tr th:only-of-type {\n",
       "        vertical-align: middle;\n",
       "    }\n",
       "\n",
       "    .dataframe tbody tr th {\n",
       "        vertical-align: top;\n",
       "    }\n",
       "\n",
       "    .dataframe thead th {\n",
       "        text-align: right;\n",
       "    }\n",
       "</style>\n",
       "<table border=\"1\" class=\"dataframe\">\n",
       "  <thead>\n",
       "    <tr style=\"text-align: right;\">\n",
       "      <th></th>\n",
       "      <th>agrupacion</th>\n",
       "      <th>1990</th>\n",
       "      <th>1992</th>\n",
       "      <th>1994</th>\n",
       "      <th>1996</th>\n",
       "      <th>1998</th>\n",
       "      <th>2000</th>\n",
       "      <th>2003</th>\n",
       "      <th>2006</th>\n",
       "      <th>2009</th>\n",
       "      <th>2011</th>\n",
       "      <th>2013</th>\n",
       "      <th>2015</th>\n",
       "      <th>2017</th>\n",
       "    </tr>\n",
       "  </thead>\n",
       "  <tbody>\n",
       "    <tr>\n",
       "      <th>0</th>\n",
       "      <td>Carece de vivienda</td>\n",
       "      <td>4569</td>\n",
       "      <td>2800</td>\n",
       "      <td>31465</td>\n",
       "      <td>22168</td>\n",
       "      <td>5747</td>\n",
       "      <td>7676</td>\n",
       "      <td>7523</td>\n",
       "      <td>4649</td>\n",
       "      <td>4741</td>\n",
       "      <td>10321</td>\n",
       "      <td>8194</td>\n",
       "      <td>8183</td>\n",
       "      <td>7511</td>\n",
       "    </tr>\n",
       "    <tr>\n",
       "      <th>1</th>\n",
       "      <td>Cuenta con acceso a vivienda</td>\n",
       "      <td>100620</td>\n",
       "      <td>140659</td>\n",
       "      <td>146592</td>\n",
       "      <td>112094</td>\n",
       "      <td>182613</td>\n",
       "      <td>245072</td>\n",
       "      <td>249554</td>\n",
       "      <td>264224</td>\n",
       "      <td>242183</td>\n",
       "      <td>284470</td>\n",
       "      <td>210297</td>\n",
       "      <td>258785</td>\n",
       "      <td>208928</td>\n",
       "    </tr>\n",
       "  </tbody>\n",
       "</table>\n",
       "</div>"
      ],
      "text/plain": [
       "                     agrupacion    1990    1992    1994    1996    1998  \\\n",
       "0            Carece de vivienda    4569    2800   31465   22168    5747   \n",
       "1  Cuenta con acceso a vivienda  100620  140659  146592  112094  182613   \n",
       "\n",
       "     2000    2003    2006    2009    2011    2013    2015    2017  \n",
       "0    7676    7523    4649    4741   10321    8194    8183    7511  \n",
       "1  245072  249554  264224  242183  284470  210297  258785  208928  "
      ]
     },
     "execution_count": 67,
     "metadata": {},
     "output_type": "execute_result"
    }
   ],
   "source": [
    "sitio_consolidado"
   ]
  },
  {
   "cell_type": "code",
   "execution_count": 68,
   "metadata": {},
   "outputs": [
    {
     "data": {
      "text/html": [
       "<div>\n",
       "<style scoped>\n",
       "    .dataframe tbody tr th:only-of-type {\n",
       "        vertical-align: middle;\n",
       "    }\n",
       "\n",
       "    .dataframe tbody tr th {\n",
       "        vertical-align: top;\n",
       "    }\n",
       "\n",
       "    .dataframe thead th {\n",
       "        text-align: right;\n",
       "    }\n",
       "</style>\n",
       "<table border=\"1\" class=\"dataframe\">\n",
       "  <thead>\n",
       "    <tr style=\"text-align: right;\">\n",
       "      <th></th>\n",
       "      <th>Año</th>\n",
       "      <th>Carece de vivienda</th>\n",
       "      <th>Cuenta con acceso a vivienda</th>\n",
       "    </tr>\n",
       "  </thead>\n",
       "  <tbody>\n",
       "    <tr>\n",
       "      <th>0</th>\n",
       "      <td>1990</td>\n",
       "      <td>4569</td>\n",
       "      <td>100620</td>\n",
       "    </tr>\n",
       "    <tr>\n",
       "      <th>1</th>\n",
       "      <td>1992</td>\n",
       "      <td>2800</td>\n",
       "      <td>140659</td>\n",
       "    </tr>\n",
       "    <tr>\n",
       "      <th>2</th>\n",
       "      <td>1994</td>\n",
       "      <td>31465</td>\n",
       "      <td>146592</td>\n",
       "    </tr>\n",
       "    <tr>\n",
       "      <th>3</th>\n",
       "      <td>1996</td>\n",
       "      <td>22168</td>\n",
       "      <td>112094</td>\n",
       "    </tr>\n",
       "    <tr>\n",
       "      <th>4</th>\n",
       "      <td>1998</td>\n",
       "      <td>5747</td>\n",
       "      <td>182613</td>\n",
       "    </tr>\n",
       "    <tr>\n",
       "      <th>5</th>\n",
       "      <td>2000</td>\n",
       "      <td>7676</td>\n",
       "      <td>245072</td>\n",
       "    </tr>\n",
       "    <tr>\n",
       "      <th>6</th>\n",
       "      <td>2003</td>\n",
       "      <td>7523</td>\n",
       "      <td>249554</td>\n",
       "    </tr>\n",
       "    <tr>\n",
       "      <th>7</th>\n",
       "      <td>2006</td>\n",
       "      <td>4649</td>\n",
       "      <td>264224</td>\n",
       "    </tr>\n",
       "    <tr>\n",
       "      <th>8</th>\n",
       "      <td>2009</td>\n",
       "      <td>4741</td>\n",
       "      <td>242183</td>\n",
       "    </tr>\n",
       "    <tr>\n",
       "      <th>9</th>\n",
       "      <td>2011</td>\n",
       "      <td>10321</td>\n",
       "      <td>284470</td>\n",
       "    </tr>\n",
       "    <tr>\n",
       "      <th>10</th>\n",
       "      <td>2013</td>\n",
       "      <td>8194</td>\n",
       "      <td>210297</td>\n",
       "    </tr>\n",
       "    <tr>\n",
       "      <th>11</th>\n",
       "      <td>2015</td>\n",
       "      <td>8183</td>\n",
       "      <td>258785</td>\n",
       "    </tr>\n",
       "    <tr>\n",
       "      <th>12</th>\n",
       "      <td>2017</td>\n",
       "      <td>7511</td>\n",
       "      <td>208928</td>\n",
       "    </tr>\n",
       "  </tbody>\n",
       "</table>\n",
       "</div>"
      ],
      "text/plain": [
       "0    Año Carece de vivienda Cuenta con acceso a vivienda\n",
       "0   1990               4569                       100620\n",
       "1   1992               2800                       140659\n",
       "2   1994              31465                       146592\n",
       "3   1996              22168                       112094\n",
       "4   1998               5747                       182613\n",
       "5   2000               7676                       245072\n",
       "6   2003               7523                       249554\n",
       "7   2006               4649                       264224\n",
       "8   2009               4741                       242183\n",
       "9   2011              10321                       284470\n",
       "10  2013               8194                       210297\n",
       "11  2015               8183                       258785\n",
       "12  2017               7511                       208928"
      ]
     },
     "execution_count": 68,
     "metadata": {},
     "output_type": "execute_result"
    }
   ],
   "source": [
    "# sitio_consolidado_transpuesto = sitio_consolidado.T(header=None)\n",
    "# sitio_consolidado_transpuesto = sitio_consolidado.T\n",
    "\n",
    "sitio_consolidado_transpuesto = sitio_consolidado.rename(columns={'agrupacion' : 'Año'})\n",
    "\n",
    "# SE DUPLICA LA COLUMNA DE AÑOS\n",
    "\n",
    "# sitio_consolidado_transpuesto[2] = anios\n",
    "\n",
    "sitio_consolidado_transpuesto.loc[-1] = anios\n",
    "sitio_consolidado_transpuesto.index = sitio_consolidado_transpuesto.index + 1\n",
    "# sitio_consolidado_transpuesto.reset_index()\n",
    "\n",
    "\n",
    "# SE RENOMBRA LA COLUMNA HEADER PARA PREPARARLA PARA LA TRANSPOSICIÓN\n",
    "\n",
    "dict = {'Año':0, '1990':1, '1992':2,'1994':3,'1996':4,'1998':5,'2000':6,'2003':7,'2006':8,'2009':8,'2011':9,'2011':10,'2013':11,'2015':12,'2017':13}\n",
    "\n",
    "sitio_consolidado_transpuesto.rename(columns=dict,\n",
    "                                     inplace=True)\n",
    "\n",
    "# sitio_consolidado_transpuesto = sitio_consolidado_transpuesto.transpose()\n",
    "# sitio_consolidado_transpuesto = sitio_consolidado_transpuesto.set_index('1990').transpose()\n",
    "\n",
    "\n",
    "# sitio_consolidado_transpuesto.loc[0]\n",
    "\n",
    "# sitio_consolidado_transpuesto.loc[-1] = anios\n",
    "\n",
    "# sitio_consolidado_transpuesto['index'] = range(1, len(df) + 1)\n",
    "# df['index'] = range(1, len(df) + 1)\n",
    "\n",
    "\n",
    "# sitio_consolidado_transpuesto = sitio_consolidado_transpuesto.transpose()\n",
    "sitio_consolidado_transpuesto = sitio_consolidado_transpuesto.set_index(0).transpose()\n",
    "\n",
    "sitio_consolidado_transpuesto = sitio_consolidado_transpuesto.reset_index(drop=True)\n",
    "\n",
    "\n",
    "sitio_consolidado_transpuesto = sitio_consolidado_transpuesto.rename(columns={'agrupacion':'Año'})\n",
    "\n",
    "\n",
    "# Reordenar las columnas\n",
    "\n",
    "sitio_consolidado_transpuesto = sitio_consolidado_transpuesto.loc[:, ['Año', 'Carece de vivienda', 'Cuenta con acceso a vivienda']]\n",
    "\n",
    "\n",
    "# sitio_consolidado_transpuesto = sitio_consolidado_transpuesto.set_index(agrupacion)\n",
    "\n",
    "sitio_consolidado_transpuesto"
   ]
  },
  {
   "cell_type": "code",
   "execution_count": 69,
   "metadata": {},
   "outputs": [
    {
     "data": {
      "text/plain": [
       "['Año', 'Carece de vivienda', 'Cuenta con acceso a vivienda']"
      ]
     },
     "execution_count": 69,
     "metadata": {},
     "output_type": "execute_result"
    }
   ],
   "source": [
    "column_names = list(sitio_consolidado_transpuesto.columns.values)\n",
    "\n",
    "column_names"
   ]
  },
  {
   "cell_type": "code",
   "execution_count": 70,
   "metadata": {},
   "outputs": [],
   "source": [
    "# sitio_consolidado_transpuesto.reset_index()"
   ]
  },
  {
   "cell_type": "code",
   "execution_count": 71,
   "metadata": {},
   "outputs": [
    {
     "data": {
      "text/html": [
       "<div>\n",
       "<style scoped>\n",
       "    .dataframe tbody tr th:only-of-type {\n",
       "        vertical-align: middle;\n",
       "    }\n",
       "\n",
       "    .dataframe tbody tr th {\n",
       "        vertical-align: top;\n",
       "    }\n",
       "\n",
       "    .dataframe thead th {\n",
       "        text-align: right;\n",
       "    }\n",
       "</style>\n",
       "<table border=\"1\" class=\"dataframe\">\n",
       "  <thead>\n",
       "    <tr style=\"text-align: right;\">\n",
       "      <th></th>\n",
       "      <th>Año</th>\n",
       "      <th>Carece de vivienda</th>\n",
       "      <th>Cuenta con acceso a vivienda</th>\n",
       "    </tr>\n",
       "  </thead>\n",
       "  <tbody>\n",
       "    <tr>\n",
       "      <th>0</th>\n",
       "      <td>1990</td>\n",
       "      <td>4569</td>\n",
       "      <td>100620</td>\n",
       "    </tr>\n",
       "    <tr>\n",
       "      <th>1</th>\n",
       "      <td>1992</td>\n",
       "      <td>2800</td>\n",
       "      <td>140659</td>\n",
       "    </tr>\n",
       "    <tr>\n",
       "      <th>2</th>\n",
       "      <td>1994</td>\n",
       "      <td>31465</td>\n",
       "      <td>146592</td>\n",
       "    </tr>\n",
       "    <tr>\n",
       "      <th>3</th>\n",
       "      <td>1996</td>\n",
       "      <td>22168</td>\n",
       "      <td>112094</td>\n",
       "    </tr>\n",
       "    <tr>\n",
       "      <th>4</th>\n",
       "      <td>1998</td>\n",
       "      <td>5747</td>\n",
       "      <td>182613</td>\n",
       "    </tr>\n",
       "    <tr>\n",
       "      <th>5</th>\n",
       "      <td>2000</td>\n",
       "      <td>7676</td>\n",
       "      <td>245072</td>\n",
       "    </tr>\n",
       "    <tr>\n",
       "      <th>6</th>\n",
       "      <td>2003</td>\n",
       "      <td>7523</td>\n",
       "      <td>249554</td>\n",
       "    </tr>\n",
       "    <tr>\n",
       "      <th>7</th>\n",
       "      <td>2006</td>\n",
       "      <td>4649</td>\n",
       "      <td>264224</td>\n",
       "    </tr>\n",
       "    <tr>\n",
       "      <th>8</th>\n",
       "      <td>2009</td>\n",
       "      <td>4741</td>\n",
       "      <td>242183</td>\n",
       "    </tr>\n",
       "    <tr>\n",
       "      <th>9</th>\n",
       "      <td>2011</td>\n",
       "      <td>10321</td>\n",
       "      <td>284470</td>\n",
       "    </tr>\n",
       "    <tr>\n",
       "      <th>10</th>\n",
       "      <td>2013</td>\n",
       "      <td>8194</td>\n",
       "      <td>210297</td>\n",
       "    </tr>\n",
       "    <tr>\n",
       "      <th>11</th>\n",
       "      <td>2015</td>\n",
       "      <td>8183</td>\n",
       "      <td>258785</td>\n",
       "    </tr>\n",
       "    <tr>\n",
       "      <th>12</th>\n",
       "      <td>2017</td>\n",
       "      <td>7511</td>\n",
       "      <td>208928</td>\n",
       "    </tr>\n",
       "  </tbody>\n",
       "</table>\n",
       "</div>"
      ],
      "text/plain": [
       "0    Año Carece de vivienda Cuenta con acceso a vivienda\n",
       "0   1990               4569                       100620\n",
       "1   1992               2800                       140659\n",
       "2   1994              31465                       146592\n",
       "3   1996              22168                       112094\n",
       "4   1998               5747                       182613\n",
       "5   2000               7676                       245072\n",
       "6   2003               7523                       249554\n",
       "7   2006               4649                       264224\n",
       "8   2009               4741                       242183\n",
       "9   2011              10321                       284470\n",
       "10  2013               8194                       210297\n",
       "11  2015               8183                       258785\n",
       "12  2017               7511                       208928"
      ]
     },
     "execution_count": 71,
     "metadata": {},
     "output_type": "execute_result"
    }
   ],
   "source": [
    "# df = pd.DataFrame(sitio_consolidado_transpuesto.reset_index())\n",
    "df = sitio_consolidado_transpuesto\n",
    "\n",
    "# df = df.reset_index()\n",
    "\n",
    "# df.index.rename('new_name')\n",
    "# df = df.reset_index()\n",
    "# df.index.names = ['Index']\n",
    "# df = df.reset_index()\n",
    "\n",
    "# df.index.rename('new_name')\n",
    "\n",
    "# df = df.reindex(df.index.rename(['Date']))\n",
    "\n",
    "# df = df.reset_index()\n",
    "\n",
    "# df.index = df.index.rename('new name', inplace=True)\n",
    "\n",
    "# sitio_1990 = sitio_1990.rename(columns={'v18':'situacion_sitio'})\n",
    "\n",
    "# df = df.rename(columns={'index' : 'Año'})\n",
    "\n",
    "# df.rename_axis('hola')\n",
    "# \n",
    "# df = df.rename(columns={'agrupacion' : 'index'})\n",
    "\n",
    "# df.index.names = ['Index']\n",
    "# df = df.reset_index()\n",
    "# \n",
    "df"
   ]
  },
  {
   "cell_type": "code",
   "execution_count": 72,
   "metadata": {},
   "outputs": [
    {
     "data": {
      "text/html": [
       "<div>\n",
       "<style scoped>\n",
       "    .dataframe tbody tr th:only-of-type {\n",
       "        vertical-align: middle;\n",
       "    }\n",
       "\n",
       "    .dataframe tbody tr th {\n",
       "        vertical-align: top;\n",
       "    }\n",
       "\n",
       "    .dataframe thead th {\n",
       "        text-align: right;\n",
       "    }\n",
       "</style>\n",
       "<table border=\"1\" class=\"dataframe\">\n",
       "  <thead>\n",
       "    <tr style=\"text-align: right;\">\n",
       "      <th></th>\n",
       "      <th>Año</th>\n",
       "      <th>Carece de vivienda</th>\n",
       "      <th>Cuenta con acceso a vivienda</th>\n",
       "    </tr>\n",
       "  </thead>\n",
       "  <tbody>\n",
       "    <tr>\n",
       "      <th>0</th>\n",
       "      <td>1990</td>\n",
       "      <td>4569</td>\n",
       "      <td>100620</td>\n",
       "    </tr>\n",
       "    <tr>\n",
       "      <th>1</th>\n",
       "      <td>1992</td>\n",
       "      <td>2800</td>\n",
       "      <td>140659</td>\n",
       "    </tr>\n",
       "    <tr>\n",
       "      <th>2</th>\n",
       "      <td>1994</td>\n",
       "      <td>31465</td>\n",
       "      <td>146592</td>\n",
       "    </tr>\n",
       "    <tr>\n",
       "      <th>3</th>\n",
       "      <td>1996</td>\n",
       "      <td>22168</td>\n",
       "      <td>112094</td>\n",
       "    </tr>\n",
       "    <tr>\n",
       "      <th>4</th>\n",
       "      <td>1998</td>\n",
       "      <td>5747</td>\n",
       "      <td>182613</td>\n",
       "    </tr>\n",
       "    <tr>\n",
       "      <th>5</th>\n",
       "      <td>2000</td>\n",
       "      <td>7676</td>\n",
       "      <td>245072</td>\n",
       "    </tr>\n",
       "    <tr>\n",
       "      <th>6</th>\n",
       "      <td>2003</td>\n",
       "      <td>7523</td>\n",
       "      <td>249554</td>\n",
       "    </tr>\n",
       "    <tr>\n",
       "      <th>7</th>\n",
       "      <td>2006</td>\n",
       "      <td>4649</td>\n",
       "      <td>264224</td>\n",
       "    </tr>\n",
       "    <tr>\n",
       "      <th>8</th>\n",
       "      <td>2009</td>\n",
       "      <td>4741</td>\n",
       "      <td>242183</td>\n",
       "    </tr>\n",
       "    <tr>\n",
       "      <th>9</th>\n",
       "      <td>2011</td>\n",
       "      <td>10321</td>\n",
       "      <td>284470</td>\n",
       "    </tr>\n",
       "    <tr>\n",
       "      <th>10</th>\n",
       "      <td>2013</td>\n",
       "      <td>8194</td>\n",
       "      <td>210297</td>\n",
       "    </tr>\n",
       "    <tr>\n",
       "      <th>11</th>\n",
       "      <td>2015</td>\n",
       "      <td>8183</td>\n",
       "      <td>258785</td>\n",
       "    </tr>\n",
       "    <tr>\n",
       "      <th>12</th>\n",
       "      <td>2017</td>\n",
       "      <td>7511</td>\n",
       "      <td>208928</td>\n",
       "    </tr>\n",
       "  </tbody>\n",
       "</table>\n",
       "</div>"
      ],
      "text/plain": [
       "0    Año Carece de vivienda Cuenta con acceso a vivienda\n",
       "0   1990               4569                       100620\n",
       "1   1992               2800                       140659\n",
       "2   1994              31465                       146592\n",
       "3   1996              22168                       112094\n",
       "4   1998               5747                       182613\n",
       "5   2000               7676                       245072\n",
       "6   2003               7523                       249554\n",
       "7   2006               4649                       264224\n",
       "8   2009               4741                       242183\n",
       "9   2011              10321                       284470\n",
       "10  2013               8194                       210297\n",
       "11  2015               8183                       258785\n",
       "12  2017               7511                       208928"
      ]
     },
     "execution_count": 72,
     "metadata": {},
     "output_type": "execute_result"
    }
   ],
   "source": [
    "# df['index'] = range(1, len(df) + 1)\n",
    "\n",
    "# df.set_index('index')\n",
    "\n",
    "# df=df.reset_index(drop=True)\n",
    "# df=df.sort_index()\n",
    "# df=df.set_index('index')\n",
    "# df.index = range(0, 13) #a range starting at one ending at 30 with a stepsize of 1.\n",
    "# df=df.sort_values(by='index')\n",
    "\n",
    "# df.set_index('index', inplace=False)\n",
    "\n",
    "# df = df.reset_index(drop=True)\n",
    "\n",
    "# df['index'] = df.index\n",
    "\n",
    "# df = df.reset_index()\n",
    "\n",
    "# df[df.index.name] = df.index\n",
    "\n",
    "df"
   ]
  },
  {
   "attachments": {},
   "cell_type": "markdown",
   "metadata": {},
   "source": [
    "# 4. Evaluación de valores absolutos\n",
    "\n",
    "De acuerdo a lo planteado para el ejercicio se busca identificar el estado de el déficit habitacional a partir de la presencia de hogares en los que se puede afirmar que no habría acceso a vivienda."
   ]
  },
  {
   "cell_type": "code",
   "execution_count": 73,
   "metadata": {},
   "outputs": [],
   "source": [
    "# animals=['giraffes', 'orangutans', 'monkeys']\n",
    "\n",
    "# fig = go.Figure(data=[\n",
    "#     go.Bar(name='SF Zoo', x=animals, y=[20, 14, 23]),\n",
    "#     go.Bar(name='LA Zoo', x=animals, y=[12, 18, 29])\n",
    "# ])\n",
    "# # Change the bar mode\n",
    "# fig.update_layout(barmode='group')\n",
    "# fig.show()\n",
    "\n"
   ]
  },
  {
   "cell_type": "code",
   "execution_count": 74,
   "metadata": {},
   "outputs": [],
   "source": [
    "# anios = list(df['Carece de vivienda'].keys())\n",
    "\n",
    "# anios"
   ]
  },
  {
   "cell_type": "code",
   "execution_count": 75,
   "metadata": {},
   "outputs": [],
   "source": [
    "# carece = list(df['Carece de vivienda'].values)\n",
    "\n",
    "# carece"
   ]
  },
  {
   "cell_type": "code",
   "execution_count": 76,
   "metadata": {},
   "outputs": [],
   "source": [
    "# cuenta = list(df['Cuenta con acceso a vivienda'].values)\n",
    "\n",
    "# cuenta"
   ]
  },
  {
   "cell_type": "code",
   "execution_count": 77,
   "metadata": {},
   "outputs": [],
   "source": [
    "# animals=['giraffes', 'orangutans', 'monkeys']\n",
    "\n",
    "# fig = go.Figure(data=[\n",
    "#     go.Bar(name='SF Zoo', x=animals, y=[20, 14, 23]),\n",
    "#     go.Bar(name='LA Zoo', x=animals, y=[12, 18, 29])\n",
    "# ])\n",
    "# # Change the bar mode\n",
    "# fig.update_layout(barmode='group')\n",
    "# fig.show()"
   ]
  },
  {
   "cell_type": "code",
   "execution_count": 78,
   "metadata": {},
   "outputs": [],
   "source": [
    "# fig = go.Figure(data=[\n",
    "#     go.Bar(name='Carece de vivienda',\n",
    "#            x=anios,\n",
    "#            y=carece,\n",
    "#            text=carece,\n",
    "#        #     textposition='auto',\n",
    "#            marker_color='indianred'),\n",
    "    \n",
    "#     go.Bar(name='Cuenta con vivienda',\n",
    "#            x=anios,\n",
    "#            y=cuenta,\n",
    "#            text=cuenta,\n",
    "#        #     textposition='auto',\n",
    "#            marker_color='lightsalmon'\n",
    "#            ),\n",
    "    \n",
    "# ])\n",
    "\n",
    "# # Change the bar mode\n",
    "# # fig.update_layout(barmode='group')\n",
    "\n",
    "# fig.update_traces(texttemplate='%{text:.2s}', textposition='outside')\n",
    "\n",
    "# fig.update_layout(barmode='group',\n",
    "#                   uniformtext_minsize=8,\n",
    "#                   uniformtext_mode='hide',\n",
    "#                   width=1000,\n",
    "#                   height=400,\n",
    "#                   xaxis_tickangle=-45,\n",
    "#                   xaxis_title=\"Año\",\n",
    "#                   yaxis_title=\"Cantidad de hogares\",\n",
    "#                 #   margin=dict(l=50,r=50,b=50,t=50,pad=4),\n",
    "#                   title={'text':\"Evolución de situación habitacional según CASEN\",'x':0.5},\n",
    "#                   )\n",
    "\n",
    "# fig.show()"
   ]
  },
  {
   "cell_type": "code",
   "execution_count": 79,
   "metadata": {},
   "outputs": [
    {
     "data": {
      "application/vnd.plotly.v1+json": {
       "config": {
        "plotlyServerURL": "https://plot.ly"
       },
       "data": [
        {
         "marker": {
          "color": "indianred"
         },
         "name": "Carece de vivienda",
         "text": [
          4569,
          2800,
          31465,
          22168,
          5747,
          7676,
          7523,
          4649,
          4741,
          10321,
          8194,
          8183,
          7511
         ],
         "textposition": "outside",
         "texttemplate": "%{text:.2s}",
         "type": "bar",
         "x": [
          "1990",
          "1992",
          "1994",
          "1996",
          "1998",
          "2000",
          "2003",
          "2006",
          "2009",
          "2011",
          "2013",
          "2015",
          "2017"
         ],
         "y": [
          4569,
          2800,
          31465,
          22168,
          5747,
          7676,
          7523,
          4649,
          4741,
          10321,
          8194,
          8183,
          7511
         ]
        },
        {
         "marker": {
          "color": "lightsalmon"
         },
         "name": "Cuenta con vivienda",
         "text": [
          100620,
          140659,
          146592,
          112094,
          182613,
          245072,
          249554,
          264224,
          242183,
          284470,
          210297,
          258785,
          208928
         ],
         "textposition": "outside",
         "texttemplate": "%{text:.2s}",
         "type": "bar",
         "x": [
          "1990",
          "1992",
          "1994",
          "1996",
          "1998",
          "2000",
          "2003",
          "2006",
          "2009",
          "2011",
          "2013",
          "2015",
          "2017"
         ],
         "y": [
          100620,
          140659,
          146592,
          112094,
          182613,
          245072,
          249554,
          264224,
          242183,
          284470,
          210297,
          258785,
          208928
         ]
        }
       ],
       "layout": {
        "barmode": "group",
        "height": 400,
        "template": {
         "data": {
          "bar": [
           {
            "error_x": {
             "color": "#2a3f5f"
            },
            "error_y": {
             "color": "#2a3f5f"
            },
            "marker": {
             "line": {
              "color": "#E5ECF6",
              "width": 0.5
             },
             "pattern": {
              "fillmode": "overlay",
              "size": 10,
              "solidity": 0.2
             }
            },
            "type": "bar"
           }
          ],
          "barpolar": [
           {
            "marker": {
             "line": {
              "color": "#E5ECF6",
              "width": 0.5
             },
             "pattern": {
              "fillmode": "overlay",
              "size": 10,
              "solidity": 0.2
             }
            },
            "type": "barpolar"
           }
          ],
          "carpet": [
           {
            "aaxis": {
             "endlinecolor": "#2a3f5f",
             "gridcolor": "white",
             "linecolor": "white",
             "minorgridcolor": "white",
             "startlinecolor": "#2a3f5f"
            },
            "baxis": {
             "endlinecolor": "#2a3f5f",
             "gridcolor": "white",
             "linecolor": "white",
             "minorgridcolor": "white",
             "startlinecolor": "#2a3f5f"
            },
            "type": "carpet"
           }
          ],
          "choropleth": [
           {
            "colorbar": {
             "outlinewidth": 0,
             "ticks": ""
            },
            "type": "choropleth"
           }
          ],
          "contour": [
           {
            "colorbar": {
             "outlinewidth": 0,
             "ticks": ""
            },
            "colorscale": [
             [
              0,
              "#0d0887"
             ],
             [
              0.1111111111111111,
              "#46039f"
             ],
             [
              0.2222222222222222,
              "#7201a8"
             ],
             [
              0.3333333333333333,
              "#9c179e"
             ],
             [
              0.4444444444444444,
              "#bd3786"
             ],
             [
              0.5555555555555556,
              "#d8576b"
             ],
             [
              0.6666666666666666,
              "#ed7953"
             ],
             [
              0.7777777777777778,
              "#fb9f3a"
             ],
             [
              0.8888888888888888,
              "#fdca26"
             ],
             [
              1,
              "#f0f921"
             ]
            ],
            "type": "contour"
           }
          ],
          "contourcarpet": [
           {
            "colorbar": {
             "outlinewidth": 0,
             "ticks": ""
            },
            "type": "contourcarpet"
           }
          ],
          "heatmap": [
           {
            "colorbar": {
             "outlinewidth": 0,
             "ticks": ""
            },
            "colorscale": [
             [
              0,
              "#0d0887"
             ],
             [
              0.1111111111111111,
              "#46039f"
             ],
             [
              0.2222222222222222,
              "#7201a8"
             ],
             [
              0.3333333333333333,
              "#9c179e"
             ],
             [
              0.4444444444444444,
              "#bd3786"
             ],
             [
              0.5555555555555556,
              "#d8576b"
             ],
             [
              0.6666666666666666,
              "#ed7953"
             ],
             [
              0.7777777777777778,
              "#fb9f3a"
             ],
             [
              0.8888888888888888,
              "#fdca26"
             ],
             [
              1,
              "#f0f921"
             ]
            ],
            "type": "heatmap"
           }
          ],
          "heatmapgl": [
           {
            "colorbar": {
             "outlinewidth": 0,
             "ticks": ""
            },
            "colorscale": [
             [
              0,
              "#0d0887"
             ],
             [
              0.1111111111111111,
              "#46039f"
             ],
             [
              0.2222222222222222,
              "#7201a8"
             ],
             [
              0.3333333333333333,
              "#9c179e"
             ],
             [
              0.4444444444444444,
              "#bd3786"
             ],
             [
              0.5555555555555556,
              "#d8576b"
             ],
             [
              0.6666666666666666,
              "#ed7953"
             ],
             [
              0.7777777777777778,
              "#fb9f3a"
             ],
             [
              0.8888888888888888,
              "#fdca26"
             ],
             [
              1,
              "#f0f921"
             ]
            ],
            "type": "heatmapgl"
           }
          ],
          "histogram": [
           {
            "marker": {
             "pattern": {
              "fillmode": "overlay",
              "size": 10,
              "solidity": 0.2
             }
            },
            "type": "histogram"
           }
          ],
          "histogram2d": [
           {
            "colorbar": {
             "outlinewidth": 0,
             "ticks": ""
            },
            "colorscale": [
             [
              0,
              "#0d0887"
             ],
             [
              0.1111111111111111,
              "#46039f"
             ],
             [
              0.2222222222222222,
              "#7201a8"
             ],
             [
              0.3333333333333333,
              "#9c179e"
             ],
             [
              0.4444444444444444,
              "#bd3786"
             ],
             [
              0.5555555555555556,
              "#d8576b"
             ],
             [
              0.6666666666666666,
              "#ed7953"
             ],
             [
              0.7777777777777778,
              "#fb9f3a"
             ],
             [
              0.8888888888888888,
              "#fdca26"
             ],
             [
              1,
              "#f0f921"
             ]
            ],
            "type": "histogram2d"
           }
          ],
          "histogram2dcontour": [
           {
            "colorbar": {
             "outlinewidth": 0,
             "ticks": ""
            },
            "colorscale": [
             [
              0,
              "#0d0887"
             ],
             [
              0.1111111111111111,
              "#46039f"
             ],
             [
              0.2222222222222222,
              "#7201a8"
             ],
             [
              0.3333333333333333,
              "#9c179e"
             ],
             [
              0.4444444444444444,
              "#bd3786"
             ],
             [
              0.5555555555555556,
              "#d8576b"
             ],
             [
              0.6666666666666666,
              "#ed7953"
             ],
             [
              0.7777777777777778,
              "#fb9f3a"
             ],
             [
              0.8888888888888888,
              "#fdca26"
             ],
             [
              1,
              "#f0f921"
             ]
            ],
            "type": "histogram2dcontour"
           }
          ],
          "mesh3d": [
           {
            "colorbar": {
             "outlinewidth": 0,
             "ticks": ""
            },
            "type": "mesh3d"
           }
          ],
          "parcoords": [
           {
            "line": {
             "colorbar": {
              "outlinewidth": 0,
              "ticks": ""
             }
            },
            "type": "parcoords"
           }
          ],
          "pie": [
           {
            "automargin": true,
            "type": "pie"
           }
          ],
          "scatter": [
           {
            "fillpattern": {
             "fillmode": "overlay",
             "size": 10,
             "solidity": 0.2
            },
            "type": "scatter"
           }
          ],
          "scatter3d": [
           {
            "line": {
             "colorbar": {
              "outlinewidth": 0,
              "ticks": ""
             }
            },
            "marker": {
             "colorbar": {
              "outlinewidth": 0,
              "ticks": ""
             }
            },
            "type": "scatter3d"
           }
          ],
          "scattercarpet": [
           {
            "marker": {
             "colorbar": {
              "outlinewidth": 0,
              "ticks": ""
             }
            },
            "type": "scattercarpet"
           }
          ],
          "scattergeo": [
           {
            "marker": {
             "colorbar": {
              "outlinewidth": 0,
              "ticks": ""
             }
            },
            "type": "scattergeo"
           }
          ],
          "scattergl": [
           {
            "marker": {
             "colorbar": {
              "outlinewidth": 0,
              "ticks": ""
             }
            },
            "type": "scattergl"
           }
          ],
          "scattermapbox": [
           {
            "marker": {
             "colorbar": {
              "outlinewidth": 0,
              "ticks": ""
             }
            },
            "type": "scattermapbox"
           }
          ],
          "scatterpolar": [
           {
            "marker": {
             "colorbar": {
              "outlinewidth": 0,
              "ticks": ""
             }
            },
            "type": "scatterpolar"
           }
          ],
          "scatterpolargl": [
           {
            "marker": {
             "colorbar": {
              "outlinewidth": 0,
              "ticks": ""
             }
            },
            "type": "scatterpolargl"
           }
          ],
          "scatterternary": [
           {
            "marker": {
             "colorbar": {
              "outlinewidth": 0,
              "ticks": ""
             }
            },
            "type": "scatterternary"
           }
          ],
          "surface": [
           {
            "colorbar": {
             "outlinewidth": 0,
             "ticks": ""
            },
            "colorscale": [
             [
              0,
              "#0d0887"
             ],
             [
              0.1111111111111111,
              "#46039f"
             ],
             [
              0.2222222222222222,
              "#7201a8"
             ],
             [
              0.3333333333333333,
              "#9c179e"
             ],
             [
              0.4444444444444444,
              "#bd3786"
             ],
             [
              0.5555555555555556,
              "#d8576b"
             ],
             [
              0.6666666666666666,
              "#ed7953"
             ],
             [
              0.7777777777777778,
              "#fb9f3a"
             ],
             [
              0.8888888888888888,
              "#fdca26"
             ],
             [
              1,
              "#f0f921"
             ]
            ],
            "type": "surface"
           }
          ],
          "table": [
           {
            "cells": {
             "fill": {
              "color": "#EBF0F8"
             },
             "line": {
              "color": "white"
             }
            },
            "header": {
             "fill": {
              "color": "#C8D4E3"
             },
             "line": {
              "color": "white"
             }
            },
            "type": "table"
           }
          ]
         },
         "layout": {
          "annotationdefaults": {
           "arrowcolor": "#2a3f5f",
           "arrowhead": 0,
           "arrowwidth": 1
          },
          "autotypenumbers": "strict",
          "coloraxis": {
           "colorbar": {
            "outlinewidth": 0,
            "ticks": ""
           }
          },
          "colorscale": {
           "diverging": [
            [
             0,
             "#8e0152"
            ],
            [
             0.1,
             "#c51b7d"
            ],
            [
             0.2,
             "#de77ae"
            ],
            [
             0.3,
             "#f1b6da"
            ],
            [
             0.4,
             "#fde0ef"
            ],
            [
             0.5,
             "#f7f7f7"
            ],
            [
             0.6,
             "#e6f5d0"
            ],
            [
             0.7,
             "#b8e186"
            ],
            [
             0.8,
             "#7fbc41"
            ],
            [
             0.9,
             "#4d9221"
            ],
            [
             1,
             "#276419"
            ]
           ],
           "sequential": [
            [
             0,
             "#0d0887"
            ],
            [
             0.1111111111111111,
             "#46039f"
            ],
            [
             0.2222222222222222,
             "#7201a8"
            ],
            [
             0.3333333333333333,
             "#9c179e"
            ],
            [
             0.4444444444444444,
             "#bd3786"
            ],
            [
             0.5555555555555556,
             "#d8576b"
            ],
            [
             0.6666666666666666,
             "#ed7953"
            ],
            [
             0.7777777777777778,
             "#fb9f3a"
            ],
            [
             0.8888888888888888,
             "#fdca26"
            ],
            [
             1,
             "#f0f921"
            ]
           ],
           "sequentialminus": [
            [
             0,
             "#0d0887"
            ],
            [
             0.1111111111111111,
             "#46039f"
            ],
            [
             0.2222222222222222,
             "#7201a8"
            ],
            [
             0.3333333333333333,
             "#9c179e"
            ],
            [
             0.4444444444444444,
             "#bd3786"
            ],
            [
             0.5555555555555556,
             "#d8576b"
            ],
            [
             0.6666666666666666,
             "#ed7953"
            ],
            [
             0.7777777777777778,
             "#fb9f3a"
            ],
            [
             0.8888888888888888,
             "#fdca26"
            ],
            [
             1,
             "#f0f921"
            ]
           ]
          },
          "colorway": [
           "#636efa",
           "#EF553B",
           "#00cc96",
           "#ab63fa",
           "#FFA15A",
           "#19d3f3",
           "#FF6692",
           "#B6E880",
           "#FF97FF",
           "#FECB52"
          ],
          "font": {
           "color": "#2a3f5f"
          },
          "geo": {
           "bgcolor": "white",
           "lakecolor": "white",
           "landcolor": "#E5ECF6",
           "showlakes": true,
           "showland": true,
           "subunitcolor": "white"
          },
          "hoverlabel": {
           "align": "left"
          },
          "hovermode": "closest",
          "mapbox": {
           "style": "light"
          },
          "paper_bgcolor": "white",
          "plot_bgcolor": "#E5ECF6",
          "polar": {
           "angularaxis": {
            "gridcolor": "white",
            "linecolor": "white",
            "ticks": ""
           },
           "bgcolor": "#E5ECF6",
           "radialaxis": {
            "gridcolor": "white",
            "linecolor": "white",
            "ticks": ""
           }
          },
          "scene": {
           "xaxis": {
            "backgroundcolor": "#E5ECF6",
            "gridcolor": "white",
            "gridwidth": 2,
            "linecolor": "white",
            "showbackground": true,
            "ticks": "",
            "zerolinecolor": "white"
           },
           "yaxis": {
            "backgroundcolor": "#E5ECF6",
            "gridcolor": "white",
            "gridwidth": 2,
            "linecolor": "white",
            "showbackground": true,
            "ticks": "",
            "zerolinecolor": "white"
           },
           "zaxis": {
            "backgroundcolor": "#E5ECF6",
            "gridcolor": "white",
            "gridwidth": 2,
            "linecolor": "white",
            "showbackground": true,
            "ticks": "",
            "zerolinecolor": "white"
           }
          },
          "shapedefaults": {
           "line": {
            "color": "#2a3f5f"
           }
          },
          "ternary": {
           "aaxis": {
            "gridcolor": "white",
            "linecolor": "white",
            "ticks": ""
           },
           "baxis": {
            "gridcolor": "white",
            "linecolor": "white",
            "ticks": ""
           },
           "bgcolor": "#E5ECF6",
           "caxis": {
            "gridcolor": "white",
            "linecolor": "white",
            "ticks": ""
           }
          },
          "title": {
           "x": 0.05
          },
          "xaxis": {
           "automargin": true,
           "gridcolor": "white",
           "linecolor": "white",
           "ticks": "",
           "title": {
            "standoff": 15
           },
           "zerolinecolor": "white",
           "zerolinewidth": 2
          },
          "yaxis": {
           "automargin": true,
           "gridcolor": "white",
           "linecolor": "white",
           "ticks": "",
           "title": {
            "standoff": 15
           },
           "zerolinecolor": "white",
           "zerolinewidth": 2
          }
         }
        },
        "title": {
         "text": "Evolución de situación habitacional según CASEN",
         "x": 0.5
        },
        "uniformtext": {
         "minsize": 8,
         "mode": "hide"
        },
        "width": 1000,
        "xaxis": {
         "tickangle": -45,
         "title": {
          "text": "Año"
         }
        },
        "yaxis": {
         "title": {
          "text": "Cantidad de hogares"
         }
        }
       }
      }
     },
     "metadata": {},
     "output_type": "display_data"
    }
   ],
   "source": [
    "fig = go.Figure(data=[\n",
    "    go.Bar(name='Carece de vivienda',\n",
    "           x=df['Año'],\n",
    "           y=df['Carece de vivienda'],\n",
    "           text=df['Carece de vivienda'],\n",
    "       #     textposition='auto',\n",
    "           marker_color='indianred'),\n",
    "    \n",
    "    go.Bar(name='Cuenta con vivienda',\n",
    "           x=df['Año'],\n",
    "           y=df['Cuenta con acceso a vivienda'],\n",
    "           text=df['Cuenta con acceso a vivienda'],\n",
    "       #     textposition='auto',\n",
    "           marker_color='lightsalmon'\n",
    "           ),\n",
    "    \n",
    "])\n",
    "\n",
    "# Change the bar mode\n",
    "# fig.update_layout(barmode='group')\n",
    "\n",
    "fig.update_traces(texttemplate='%{text:.2s}', textposition='outside')\n",
    "\n",
    "fig.update_layout(barmode='group',\n",
    "                  uniformtext_minsize=8,\n",
    "                  uniformtext_mode='hide',\n",
    "                  width=1000,\n",
    "                  height=400,\n",
    "                  xaxis_tickangle=-45,\n",
    "                  xaxis_title=\"Año\",\n",
    "                  yaxis_title=\"Cantidad de hogares\",\n",
    "                #   margin=dict(l=50,r=50,b=50,t=50,pad=4),\n",
    "                  title={'text':\"Evolución de situación habitacional según CASEN\",'x':0.5},\n",
    "                  )\n",
    "\n",
    "fig.show()"
   ]
  },
  {
   "cell_type": "code",
   "execution_count": 80,
   "metadata": {},
   "outputs": [],
   "source": [
    "# fig = go.Figure(data=[\n",
    "#     go.Bar(name='Carece de vivienda',\n",
    "#            x=anios,\n",
    "#            y=carece,\n",
    "#            text=carece,\n",
    "#        #     textposition='auto',\n",
    "#            marker_color='indianred'),\n",
    "    \n",
    "# ])\n",
    "\n",
    "\n",
    "# fig.update_traces(texttemplate='%{text:.2s}', textposition='outside')\n",
    "\n",
    "# fig.update_layout(barmode='group',\n",
    "#                   uniformtext_minsize=8,\n",
    "#                   uniformtext_mode='hide',\n",
    "#                   width=1000,\n",
    "#                   height=400,\n",
    "#                   xaxis_tickangle=-45,\n",
    "#                   xaxis_title=\"Año\",\n",
    "#                   yaxis_title=\"Cantidad de hogares\",\n",
    "#                   margin=dict(l=50,r=50,b=50,t=50,pad=4),\n",
    "#                   title={'text':\"Evolución de situación habitacional según CASEN\",'x':0.5},\n",
    "#                   )\n",
    "\n",
    "# fig.show()"
   ]
  },
  {
   "cell_type": "code",
   "execution_count": 93,
   "metadata": {},
   "outputs": [
    {
     "data": {
      "application/vnd.plotly.v1+json": {
       "config": {
        "plotlyServerURL": "https://plot.ly"
       },
       "data": [
        {
         "hovertemplate": "Año=%{x}<br>Carece de vivienda=%{y}<extra></extra>",
         "legendgroup": "",
         "marker": {
          "color": "indianred",
          "line": {
           "color": "lightsalmon",
           "width": 1.5
          },
          "symbol": "circle"
         },
         "mode": "markers",
         "name": "",
         "opacity": 0.6,
         "orientation": "v",
         "showlegend": false,
         "type": "scatter",
         "x": [
          "1990",
          "1992",
          "1994",
          "1996",
          "1998",
          "2000",
          "2003",
          "2006",
          "2009",
          "2011",
          "2013",
          "2015",
          "2017"
         ],
         "xaxis": "x",
         "y": [
          4569,
          2800,
          31465,
          22168,
          5747,
          7676,
          7523,
          4649,
          4741,
          10321,
          8194,
          8183,
          7511
         ],
         "yaxis": "y"
        },
        {
         "hovertemplate": "<b>LOWESS trendline</b><br><br>Año=%{x}<br>Carece de vivienda=%{y} <b>(trend)</b><extra></extra>",
         "legendgroup": "",
         "marker": {
          "color": "indianred",
          "line": {
           "color": "lightsalmon",
           "width": 1.5
          },
          "symbol": "circle"
         },
         "mode": "lines",
         "name": "",
         "opacity": 0.6,
         "showlegend": false,
         "type": "scatter",
         "x": [
          "1990",
          "1992",
          "1994",
          "1996",
          "1998",
          "2000",
          "2003",
          "2006",
          "2009",
          "2011",
          "2013",
          "2015",
          "2017"
         ],
         "xaxis": "x",
         "y": [
          3516.4136299856664,
          4143.955026098821,
          4773.997881976847,
          5376.860376812576,
          6006.2063224424,
          6675.031021636113,
          6344.742676667301,
          6500.0994838878405,
          6769.4676298038175,
          7170.017799765797,
          7597.561320883814,
          8033.040037128486,
          8435.458088170155
         ],
         "yaxis": "y"
        }
       ],
       "layout": {
        "height": 400,
        "legend": {
         "tracegroupgap": 0
        },
        "margin": {
         "t": 60
        },
        "template": {
         "data": {
          "bar": [
           {
            "error_x": {
             "color": "#2a3f5f"
            },
            "error_y": {
             "color": "#2a3f5f"
            },
            "marker": {
             "line": {
              "color": "#E5ECF6",
              "width": 0.5
             },
             "pattern": {
              "fillmode": "overlay",
              "size": 10,
              "solidity": 0.2
             }
            },
            "type": "bar"
           }
          ],
          "barpolar": [
           {
            "marker": {
             "line": {
              "color": "#E5ECF6",
              "width": 0.5
             },
             "pattern": {
              "fillmode": "overlay",
              "size": 10,
              "solidity": 0.2
             }
            },
            "type": "barpolar"
           }
          ],
          "carpet": [
           {
            "aaxis": {
             "endlinecolor": "#2a3f5f",
             "gridcolor": "white",
             "linecolor": "white",
             "minorgridcolor": "white",
             "startlinecolor": "#2a3f5f"
            },
            "baxis": {
             "endlinecolor": "#2a3f5f",
             "gridcolor": "white",
             "linecolor": "white",
             "minorgridcolor": "white",
             "startlinecolor": "#2a3f5f"
            },
            "type": "carpet"
           }
          ],
          "choropleth": [
           {
            "colorbar": {
             "outlinewidth": 0,
             "ticks": ""
            },
            "type": "choropleth"
           }
          ],
          "contour": [
           {
            "colorbar": {
             "outlinewidth": 0,
             "ticks": ""
            },
            "colorscale": [
             [
              0,
              "#0d0887"
             ],
             [
              0.1111111111111111,
              "#46039f"
             ],
             [
              0.2222222222222222,
              "#7201a8"
             ],
             [
              0.3333333333333333,
              "#9c179e"
             ],
             [
              0.4444444444444444,
              "#bd3786"
             ],
             [
              0.5555555555555556,
              "#d8576b"
             ],
             [
              0.6666666666666666,
              "#ed7953"
             ],
             [
              0.7777777777777778,
              "#fb9f3a"
             ],
             [
              0.8888888888888888,
              "#fdca26"
             ],
             [
              1,
              "#f0f921"
             ]
            ],
            "type": "contour"
           }
          ],
          "contourcarpet": [
           {
            "colorbar": {
             "outlinewidth": 0,
             "ticks": ""
            },
            "type": "contourcarpet"
           }
          ],
          "heatmap": [
           {
            "colorbar": {
             "outlinewidth": 0,
             "ticks": ""
            },
            "colorscale": [
             [
              0,
              "#0d0887"
             ],
             [
              0.1111111111111111,
              "#46039f"
             ],
             [
              0.2222222222222222,
              "#7201a8"
             ],
             [
              0.3333333333333333,
              "#9c179e"
             ],
             [
              0.4444444444444444,
              "#bd3786"
             ],
             [
              0.5555555555555556,
              "#d8576b"
             ],
             [
              0.6666666666666666,
              "#ed7953"
             ],
             [
              0.7777777777777778,
              "#fb9f3a"
             ],
             [
              0.8888888888888888,
              "#fdca26"
             ],
             [
              1,
              "#f0f921"
             ]
            ],
            "type": "heatmap"
           }
          ],
          "heatmapgl": [
           {
            "colorbar": {
             "outlinewidth": 0,
             "ticks": ""
            },
            "colorscale": [
             [
              0,
              "#0d0887"
             ],
             [
              0.1111111111111111,
              "#46039f"
             ],
             [
              0.2222222222222222,
              "#7201a8"
             ],
             [
              0.3333333333333333,
              "#9c179e"
             ],
             [
              0.4444444444444444,
              "#bd3786"
             ],
             [
              0.5555555555555556,
              "#d8576b"
             ],
             [
              0.6666666666666666,
              "#ed7953"
             ],
             [
              0.7777777777777778,
              "#fb9f3a"
             ],
             [
              0.8888888888888888,
              "#fdca26"
             ],
             [
              1,
              "#f0f921"
             ]
            ],
            "type": "heatmapgl"
           }
          ],
          "histogram": [
           {
            "marker": {
             "pattern": {
              "fillmode": "overlay",
              "size": 10,
              "solidity": 0.2
             }
            },
            "type": "histogram"
           }
          ],
          "histogram2d": [
           {
            "colorbar": {
             "outlinewidth": 0,
             "ticks": ""
            },
            "colorscale": [
             [
              0,
              "#0d0887"
             ],
             [
              0.1111111111111111,
              "#46039f"
             ],
             [
              0.2222222222222222,
              "#7201a8"
             ],
             [
              0.3333333333333333,
              "#9c179e"
             ],
             [
              0.4444444444444444,
              "#bd3786"
             ],
             [
              0.5555555555555556,
              "#d8576b"
             ],
             [
              0.6666666666666666,
              "#ed7953"
             ],
             [
              0.7777777777777778,
              "#fb9f3a"
             ],
             [
              0.8888888888888888,
              "#fdca26"
             ],
             [
              1,
              "#f0f921"
             ]
            ],
            "type": "histogram2d"
           }
          ],
          "histogram2dcontour": [
           {
            "colorbar": {
             "outlinewidth": 0,
             "ticks": ""
            },
            "colorscale": [
             [
              0,
              "#0d0887"
             ],
             [
              0.1111111111111111,
              "#46039f"
             ],
             [
              0.2222222222222222,
              "#7201a8"
             ],
             [
              0.3333333333333333,
              "#9c179e"
             ],
             [
              0.4444444444444444,
              "#bd3786"
             ],
             [
              0.5555555555555556,
              "#d8576b"
             ],
             [
              0.6666666666666666,
              "#ed7953"
             ],
             [
              0.7777777777777778,
              "#fb9f3a"
             ],
             [
              0.8888888888888888,
              "#fdca26"
             ],
             [
              1,
              "#f0f921"
             ]
            ],
            "type": "histogram2dcontour"
           }
          ],
          "mesh3d": [
           {
            "colorbar": {
             "outlinewidth": 0,
             "ticks": ""
            },
            "type": "mesh3d"
           }
          ],
          "parcoords": [
           {
            "line": {
             "colorbar": {
              "outlinewidth": 0,
              "ticks": ""
             }
            },
            "type": "parcoords"
           }
          ],
          "pie": [
           {
            "automargin": true,
            "type": "pie"
           }
          ],
          "scatter": [
           {
            "fillpattern": {
             "fillmode": "overlay",
             "size": 10,
             "solidity": 0.2
            },
            "type": "scatter"
           }
          ],
          "scatter3d": [
           {
            "line": {
             "colorbar": {
              "outlinewidth": 0,
              "ticks": ""
             }
            },
            "marker": {
             "colorbar": {
              "outlinewidth": 0,
              "ticks": ""
             }
            },
            "type": "scatter3d"
           }
          ],
          "scattercarpet": [
           {
            "marker": {
             "colorbar": {
              "outlinewidth": 0,
              "ticks": ""
             }
            },
            "type": "scattercarpet"
           }
          ],
          "scattergeo": [
           {
            "marker": {
             "colorbar": {
              "outlinewidth": 0,
              "ticks": ""
             }
            },
            "type": "scattergeo"
           }
          ],
          "scattergl": [
           {
            "marker": {
             "colorbar": {
              "outlinewidth": 0,
              "ticks": ""
             }
            },
            "type": "scattergl"
           }
          ],
          "scattermapbox": [
           {
            "marker": {
             "colorbar": {
              "outlinewidth": 0,
              "ticks": ""
             }
            },
            "type": "scattermapbox"
           }
          ],
          "scatterpolar": [
           {
            "marker": {
             "colorbar": {
              "outlinewidth": 0,
              "ticks": ""
             }
            },
            "type": "scatterpolar"
           }
          ],
          "scatterpolargl": [
           {
            "marker": {
             "colorbar": {
              "outlinewidth": 0,
              "ticks": ""
             }
            },
            "type": "scatterpolargl"
           }
          ],
          "scatterternary": [
           {
            "marker": {
             "colorbar": {
              "outlinewidth": 0,
              "ticks": ""
             }
            },
            "type": "scatterternary"
           }
          ],
          "surface": [
           {
            "colorbar": {
             "outlinewidth": 0,
             "ticks": ""
            },
            "colorscale": [
             [
              0,
              "#0d0887"
             ],
             [
              0.1111111111111111,
              "#46039f"
             ],
             [
              0.2222222222222222,
              "#7201a8"
             ],
             [
              0.3333333333333333,
              "#9c179e"
             ],
             [
              0.4444444444444444,
              "#bd3786"
             ],
             [
              0.5555555555555556,
              "#d8576b"
             ],
             [
              0.6666666666666666,
              "#ed7953"
             ],
             [
              0.7777777777777778,
              "#fb9f3a"
             ],
             [
              0.8888888888888888,
              "#fdca26"
             ],
             [
              1,
              "#f0f921"
             ]
            ],
            "type": "surface"
           }
          ],
          "table": [
           {
            "cells": {
             "fill": {
              "color": "#EBF0F8"
             },
             "line": {
              "color": "white"
             }
            },
            "header": {
             "fill": {
              "color": "#C8D4E3"
             },
             "line": {
              "color": "white"
             }
            },
            "type": "table"
           }
          ]
         },
         "layout": {
          "annotationdefaults": {
           "arrowcolor": "#2a3f5f",
           "arrowhead": 0,
           "arrowwidth": 1
          },
          "autotypenumbers": "strict",
          "coloraxis": {
           "colorbar": {
            "outlinewidth": 0,
            "ticks": ""
           }
          },
          "colorscale": {
           "diverging": [
            [
             0,
             "#8e0152"
            ],
            [
             0.1,
             "#c51b7d"
            ],
            [
             0.2,
             "#de77ae"
            ],
            [
             0.3,
             "#f1b6da"
            ],
            [
             0.4,
             "#fde0ef"
            ],
            [
             0.5,
             "#f7f7f7"
            ],
            [
             0.6,
             "#e6f5d0"
            ],
            [
             0.7,
             "#b8e186"
            ],
            [
             0.8,
             "#7fbc41"
            ],
            [
             0.9,
             "#4d9221"
            ],
            [
             1,
             "#276419"
            ]
           ],
           "sequential": [
            [
             0,
             "#0d0887"
            ],
            [
             0.1111111111111111,
             "#46039f"
            ],
            [
             0.2222222222222222,
             "#7201a8"
            ],
            [
             0.3333333333333333,
             "#9c179e"
            ],
            [
             0.4444444444444444,
             "#bd3786"
            ],
            [
             0.5555555555555556,
             "#d8576b"
            ],
            [
             0.6666666666666666,
             "#ed7953"
            ],
            [
             0.7777777777777778,
             "#fb9f3a"
            ],
            [
             0.8888888888888888,
             "#fdca26"
            ],
            [
             1,
             "#f0f921"
            ]
           ],
           "sequentialminus": [
            [
             0,
             "#0d0887"
            ],
            [
             0.1111111111111111,
             "#46039f"
            ],
            [
             0.2222222222222222,
             "#7201a8"
            ],
            [
             0.3333333333333333,
             "#9c179e"
            ],
            [
             0.4444444444444444,
             "#bd3786"
            ],
            [
             0.5555555555555556,
             "#d8576b"
            ],
            [
             0.6666666666666666,
             "#ed7953"
            ],
            [
             0.7777777777777778,
             "#fb9f3a"
            ],
            [
             0.8888888888888888,
             "#fdca26"
            ],
            [
             1,
             "#f0f921"
            ]
           ]
          },
          "colorway": [
           "#636efa",
           "#EF553B",
           "#00cc96",
           "#ab63fa",
           "#FFA15A",
           "#19d3f3",
           "#FF6692",
           "#B6E880",
           "#FF97FF",
           "#FECB52"
          ],
          "font": {
           "color": "#2a3f5f"
          },
          "geo": {
           "bgcolor": "white",
           "lakecolor": "white",
           "landcolor": "#E5ECF6",
           "showlakes": true,
           "showland": true,
           "subunitcolor": "white"
          },
          "hoverlabel": {
           "align": "left"
          },
          "hovermode": "closest",
          "mapbox": {
           "style": "light"
          },
          "paper_bgcolor": "white",
          "plot_bgcolor": "#E5ECF6",
          "polar": {
           "angularaxis": {
            "gridcolor": "white",
            "linecolor": "white",
            "ticks": ""
           },
           "bgcolor": "#E5ECF6",
           "radialaxis": {
            "gridcolor": "white",
            "linecolor": "white",
            "ticks": ""
           }
          },
          "scene": {
           "xaxis": {
            "backgroundcolor": "#E5ECF6",
            "gridcolor": "white",
            "gridwidth": 2,
            "linecolor": "white",
            "showbackground": true,
            "ticks": "",
            "zerolinecolor": "white"
           },
           "yaxis": {
            "backgroundcolor": "#E5ECF6",
            "gridcolor": "white",
            "gridwidth": 2,
            "linecolor": "white",
            "showbackground": true,
            "ticks": "",
            "zerolinecolor": "white"
           },
           "zaxis": {
            "backgroundcolor": "#E5ECF6",
            "gridcolor": "white",
            "gridwidth": 2,
            "linecolor": "white",
            "showbackground": true,
            "ticks": "",
            "zerolinecolor": "white"
           }
          },
          "shapedefaults": {
           "line": {
            "color": "#2a3f5f"
           }
          },
          "ternary": {
           "aaxis": {
            "gridcolor": "white",
            "linecolor": "white",
            "ticks": ""
           },
           "baxis": {
            "gridcolor": "white",
            "linecolor": "white",
            "ticks": ""
           },
           "bgcolor": "#E5ECF6",
           "caxis": {
            "gridcolor": "white",
            "linecolor": "white",
            "ticks": ""
           }
          },
          "title": {
           "x": 0.05
          },
          "xaxis": {
           "automargin": true,
           "gridcolor": "white",
           "linecolor": "white",
           "ticks": "",
           "title": {
            "standoff": 15
           },
           "zerolinecolor": "white",
           "zerolinewidth": 2
          },
          "yaxis": {
           "automargin": true,
           "gridcolor": "white",
           "linecolor": "white",
           "ticks": "",
           "title": {
            "standoff": 15
           },
           "zerolinecolor": "white",
           "zerolinewidth": 2
          }
         }
        },
        "title": {
         "text": "Evolución de situación habitacional según CASEN",
         "x": 0.5
        },
        "width": 600,
        "xaxis": {
         "anchor": "y",
         "domain": [
          0,
          1
         ],
         "tickangle": -45,
         "title": {
          "text": "Año"
         }
        },
        "yaxis": {
         "anchor": "x",
         "domain": [
          0,
          1
         ],
         "title": {
          "text": "Cantidad de hogares"
         }
        }
       }
      }
     },
     "metadata": {},
     "output_type": "display_data"
    }
   ],
   "source": [
    "# df = px.data.tips()\n",
    "\n",
    "fig = px.scatter(df,\n",
    "                 x=\"Año\",\n",
    "                 y=\"Carece de vivienda\",\n",
    "                 trendline=\"lowess\")\n",
    "\n",
    "\n",
    "fig.update_layout(#   uniformtext_minsize=8,\n",
    "                  #   uniformtext_mode='hide',\n",
    "                  width=600,\n",
    "                  height=400,\n",
    "                  xaxis_tickangle=-45,\n",
    "                  xaxis_title=\"Año\",\n",
    "                  yaxis_title=\"Cantidad de hogares\",\n",
    "                #   margin=dict(l=50,r=50,b=50,t=50,pad=4),\n",
    "                  title={'text':\"Evolución de situación habitacional según CASEN\",'x':0.5},\n",
    "                  )\n",
    "\n",
    "fig.update_traces(\n",
    "    marker_color='indianred',\n",
    "    marker_line_color='lightsalmon',\n",
    "    marker_line_width=1.5,\n",
    "    opacity=0.6\n",
    "    )\n",
    "\n",
    "fig.show()"
   ]
  },
  {
   "cell_type": "code",
   "execution_count": null,
   "metadata": {},
   "outputs": [],
   "source": [
    "fig = go.Figure(data=[\n",
    "    go.Bar(name='Carece de vivienda',\n",
    "           x=anios,\n",
    "           y=carece,\n",
    "           text=carece,\n",
    "           textposition='auto',\n",
    "           marker_color='indianred'),\n",
    "    \n",
    "    go.Bar(name='Cuenta con vivienda',\n",
    "           x=anios,\n",
    "           y=cuenta,\n",
    "           text=cuenta,\n",
    "           textposition='auto',\n",
    "           marker_color='lightsalmon'\n",
    "           )\n",
    "])\n",
    "\n",
    "# Change the bar mode\n",
    "fig.update_layout(barmode='group')\n",
    "fig.update_yaxes(type='log')\n",
    "\n",
    "fig.show()"
   ]
  },
  {
   "cell_type": "code",
   "execution_count": null,
   "metadata": {},
   "outputs": [],
   "source": [
    "fig = go.Figure(data=[\n",
    "    go.Bar(name='Carece de vivienda',\n",
    "           x=anios,\n",
    "           y=carece,\n",
    "           marker_color='indianred'),\n",
    "    \n",
    "    go.Bar(name='Cuenta con vivienda',\n",
    "           x=anios,\n",
    "           y=cuenta,\n",
    "           marker_color='lightsalmon'\n",
    "           )\n",
    "])\n",
    "\n",
    "# Change the bar mode\n",
    "fig.update_layout(barmode='group')\n",
    "\n",
    "fig.show()"
   ]
  },
  {
   "cell_type": "code",
   "execution_count": null,
   "metadata": {},
   "outputs": [],
   "source": [
    "fig = go.Figure(data=[\n",
    "    go.Bar(name='Carece de vivienda',\n",
    "           x=anios,\n",
    "           y=carece,\n",
    "           marker_color='indianred'),\n",
    "    \n",
    "    go.Bar(name='Cuenta con vivienda',\n",
    "           x=anios,\n",
    "           y=cuenta,\n",
    "           marker_color='lightsalmon'\n",
    "           )\n",
    "    \n",
    "])\n",
    "\n",
    "# Change the bar mode\n",
    "\n",
    "\n",
    "\n",
    "fig.update_layout(barmode='stack')\n",
    "fig.show()"
   ]
  },
  {
   "cell_type": "code",
   "execution_count": null,
   "metadata": {},
   "outputs": [],
   "source": []
  }
 ],
 "metadata": {
  "kernelspec": {
   "display_name": "diplomadods",
   "language": "python",
   "name": "diplomadods"
  },
  "language_info": {
   "codemirror_mode": {
    "name": "ipython",
    "version": 3
   },
   "file_extension": ".py",
   "mimetype": "text/x-python",
   "name": "python",
   "nbconvert_exporter": "python",
   "pygments_lexer": "ipython3",
   "version": "3.10.9"
  },
  "orig_nbformat": 4,
  "vscode": {
   "interpreter": {
    "hash": "a02b72597063d5b55c5d4bffd286d8d9314cf89ab367281f17f7510842994bff"
   }
  }
 },
 "nbformat": 4,
 "nbformat_minor": 2
}
